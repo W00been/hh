{
 "cells": [
  {
   "cell_type": "markdown",
   "metadata": {},
   "source": [
    "# 추가 사항\n",
    "## 머리 길이, 옷 크기"
   ]
  },
  {
   "cell_type": "code",
   "execution_count": 57,
   "metadata": {},
   "outputs": [],
   "source": [
    "import numpy as np\n",
    "import random\n",
    "import matplotlib.pyplot as plt\n",
    "%matplotlib inline\n",
    "r = []\n",
    "b = []\n",
    "for i in range(50):\n",
    "    r.append([random.randint(40, 70), random.randint(140, 180), random.randint(20, 40), random.randint(85, 105), 1])\n",
    "    b.append([random.randint(60, 90), random.randint(160, 200), random.randint(1, 20), random.randint(90, 110), 0])"
   ]
  },
  {
   "cell_type": "code",
   "execution_count": 58,
   "metadata": {},
   "outputs": [],
   "source": [
    "def distance(x,y):\n",
    "    return np.sqrt(pow((x[0]-y[0]), 2) + pow((x[1] - y[1]), 2) + pow((x[2] - y[2]), 2) + pow((x[3] - y[3]), 2))"
   ]
  },
  {
   "cell_type": "code",
   "execution_count": 59,
   "metadata": {},
   "outputs": [],
   "source": [
    "def knn(x, y, k):\n",
    "    result = []\n",
    "    cnt = 0\n",
    "    for i in range(len(y)):\n",
    "        result.append([distance(x,y[i]),y[i][4]])\n",
    "    result.sort()\n",
    "    for i in range(k-1):\n",
    "        if(result[i][1] == 1):\n",
    "            cnt += 1\n",
    "    if(cnt > (k/2)):\n",
    "        print(\"당신은 여자입니다.\")\n",
    "    else:\n",
    "        print(\"당신은 남자입니다.\")"
   ]
  },
  {
   "cell_type": "code",
   "execution_count": 60,
   "metadata": {},
   "outputs": [
    {
     "data": {
      "image/png": "[encoded data removed]",
      "text/plain": [
       "<Figure size 432x288 with 1 Axes>"
      ]
     },
     "metadata": {
      "needs_background": "light"
     },
     "output_type": "display_data"
    }
   ],
   "source": [
    "for i in range(50):\n",
    "    plt.plot(r[i][0], r[i][1], r[i][2], r[i][3], marker='o', color = 'red')\n",
    "    plt.plot(b[i][0], b[i][1], b[i][2], b[i][3], marker='o', color = 'blue')"
   ]
  },
  {
   "cell_type": "code",
   "execution_count": 49,
   "metadata": {},
   "outputs": [
    {
     "name": "stdout",
     "output_type": "stream",
     "text": [
      "몸무게를 입력해주세요.65\n"
     ]
    }
   ],
   "source": [
    "weight = input(\"몸무게를 입력해주세요.\")"
   ]
  },
  {
   "cell_type": "code",
   "execution_count": 50,
   "metadata": {},
   "outputs": [
    {
     "name": "stdout",
     "output_type": "stream",
     "text": [
      "키를 입력해주세요.165\n"
     ]
    }
   ],
   "source": [
    "height = input(\"키를 입력해주세요.\")"
   ]
  },
  {
   "cell_type": "code",
   "execution_count": 42,
   "metadata": {},
   "outputs": [
    {
     "name": "stdout",
     "output_type": "stream",
     "text": [
      "머리길이를 입력해주세요.20\n"
     ]
    }
   ],
   "source": [
    "Hair_length = input(\"머리길이를 입력해주세요.\")"
   ]
  },
  {
   "cell_type": "code",
   "execution_count": 43,
   "metadata": {},
   "outputs": [
    {
     "name": "stdout",
     "output_type": "stream",
     "text": [
      "옷 크기를 입력해주세요.95\n"
     ]
    }
   ],
   "source": [
    "Clothes_size = input(\"옷 크기를 입력해주세요.\")"
   ]
  },
  {
   "cell_type": "code",
   "execution_count": 18,
   "metadata": {},
   "outputs": [
    {
     "name": "stdout",
     "output_type": "stream",
     "text": [
      "k를 입력해주세요.3\n"
     ]
    }
   ],
   "source": [
    "num = input(\"k를 입력해주세요.\")"
   ]
  },
  {
   "cell_type": "code",
   "execution_count": 51,
   "metadata": {},
   "outputs": [],
   "source": [
    "new = [int(weight), int(height), int(Hair_length), int(Clothes_size)]"
   ]
  },
  {
   "cell_type": "code",
   "execution_count": 61,
   "metadata": {},
   "outputs": [
    {
     "data": {
      "image/png": "[encoded data removed]",
      "text/plain": [
       "<Figure size 432x288 with 1 Axes>"
      ]
     },
     "metadata": {
      "needs_background": "light"
     },
     "output_type": "display_data"
    }
   ],
   "source": [
    "for i in range(50):\n",
    "    plt.plot(r[i][0], r[i][1], r[i][2], r[i][3], marker='o', color = 'red')\n",
    "    plt.plot(b[i][0], b[i][1], b[i][2], b[i][3], marker='o', color = 'blue')\n",
    "    plt.plot(new[0], new[1], new[2], new[3], marker = 'x', color = 'black')"
   ]
  },
  {
   "cell_type": "code",
   "execution_count": 70,
   "metadata": {},
   "outputs": [
    {
     "name": "stdout",
     "output_type": "stream",
     "text": [
      "k가 3 일 때 : \n",
      "당신은 남자입니다.\n",
      "k가 5 일 때 : \n",
      "당신은 남자입니다.\n",
      "k가 7 일 때 : \n",
      "당신은 남자입니다.\n",
      "k가 11 일 때 : \n",
      "당신은 여자입니다.\n"
     ]
    }
   ],
   "source": [
    "for i in range(3, 12, 2):\n",
    "    if(i == 9):\n",
    "        continue\n",
    "    print(\"k가\", i, \"일 때 : \")\n",
    "    knn(new, r+b, i)"
   ]
  }
 ],
 "metadata": {
  "kernelspec": {
   "display_name": "Python 3",
   "language": "python",
   "name": "python3"
  },
  "language_info": {
   "codemirror_mode": {
    "name": "ipython",
    "version": 3
   },
   "file_extension": ".py",
   "mimetype": "text/x-python",
   "name": "python",
   "nbconvert_exporter": "python",
   "pygments_lexer": "ipython3",
   "version": "3.7.3"
  }
 },
 "nbformat": 4,
 "nbformat_minor": 2
}
