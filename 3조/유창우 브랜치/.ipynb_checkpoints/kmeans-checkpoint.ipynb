{
 "cells": [
  {
   "cell_type": "markdown",
   "metadata": {},
   "source": [
    "# 1. 키, 몸무게 데이터 만들기\n",
    "\n",
    "# 2. 초기 랜덤 값 두 개 (k=2라고 가정)\n",
    "\n",
    "# 3. 두 점을 기준으로 영역을 나누기\n",
    "\n",
    "# 4. 새로운 영역에서 중심점을 새로 찾기 (평균)\n",
    "\n",
    "# 5. 새로운 점을 기준으로 영역 나누기\n",
    "\n",
    "# 6. 새로운 영역에서 중심점을 새로 찾기 (10번 반복)"
   ]
  },
  {
   "cell_type": "code",
   "execution_count": 94,
   "metadata": {},
   "outputs": [
    {
     "data": {
      "image/png": "[encoded data removed]",
      "text/plain": [
       "<Figure size 432x288 with 1 Axes>"
      ]
     },
     "metadata": {
      "needs_background": "light"
     },
     "output_type": "display_data"
    }
   ],
   "source": [
    "import numpy as np # ndarray 생성\n",
    "\n",
    "import matplotlib.pyplot as plt\n",
    "%matplotlib inline\n",
    "\n",
    "import random # 랜덤 함수 사용을 위한 절차\n",
    "data = []\n",
    "r = []\n",
    "b = []\n",
    "cnt_red = 0\n",
    "cnt_blue = 0\n",
    "\n",
    "for i in range(50): # 하위 내용을 i값이 1씩 증가하면서 50번 반복\n",
    "    data.append([random.randint(40, 70), random.randint(140, 180)])\n",
    "    # [ 몸무게 40 ~ 70 까지 , 키 140 ~ 180 까지 ] data에 추가\n",
    "    data.append([random.randint(80, 90), random.randint(180, 200)])\n",
    "    # [ 몸무게 80 ~ 90 까지 , 키 180 ~ 200 까지 ] data에 추가\n",
    "    \n",
    "for i in range(50):\n",
    "    plt.plot(data[i][0],data[i][1], marker='o', color='black') "
   ]
  },
  {
   "cell_type": "code",
   "execution_count": 95,
   "metadata": {},
   "outputs": [
    {
     "name": "stdout",
     "output_type": "stream",
     "text": [
      "[[56, 160], [89, 182], [48, 141], [88, 196], [69, 141], [84, 190], [48, 158], [85, 199], [69, 170], [90, 185], [57, 146], [90, 190], [41, 144], [84, 183], [60, 149], [90, 190], [42, 150], [82, 186], [53, 168], [88, 187], [70, 159], [88, 182], [55, 151], [90, 184], [56, 155], [80, 192], [40, 145], [90, 187], [53, 162], [80, 188], [45, 152], [90, 190], [66, 161], [90, 200], [44, 144], [84, 188], [59, 153], [80, 194], [63, 161], [82, 183], [58, 149], [89, 191], [52, 141], [90, 191], [56, 176], [88, 195], [63, 150], [82, 193], [56, 158], [83, 187], [53, 157], [82, 200], [42, 151], [88, 187], [61, 152], [89, 194], [66, 168], [82, 199], [61, 142], [88, 186], [46, 162], [89, 197], [45, 180], [88, 184], [47, 145], [82, 193], [41, 180], [85, 186], [47, 167], [85, 187], [50, 142], [82, 180], [56, 170], [88, 199], [60, 179], [88, 193], [45, 142], [90, 193], [45, 157], [82, 193], [47, 180], [82, 195], [48, 172], [88, 189], [41, 164], [85, 189], [53, 174], [86, 200], [66, 146], [86, 181], [56, 177], [81, 193], [45, 154], [90, 193], [62, 166], [87, 183], [68, 169], [87, 187], [63, 170], [85, 194]]\n"
     ]
    }
   ],
   "source": [
    "print(data)"
   ]
  },
  {
   "cell_type": "code",
   "execution_count": 96,
   "metadata": {},
   "outputs": [
    {
     "name": "stdout",
     "output_type": "stream",
     "text": [
      "[[65, 188], [54, 179]]\n"
     ]
    }
   ],
   "source": [
    "random_points = [[random.randint(40,90), random.randint(140,200)], [random.randint(40,90), random.randint(140,200)]]\n",
    "print(random_points)"
   ]
  },
  {
   "cell_type": "code",
   "execution_count": 97,
   "metadata": {},
   "outputs": [
    {
     "data": {
      "text/plain": [
       "[<matplotlib.lines.Line2D at 0x1e25fb690b8>]"
      ]
     },
     "execution_count": 97,
     "metadata": {},
     "output_type": "execute_result"
    },
    {
     "data": {
      "image/png": "[encoded data removed]",
      "text/plain": [
       "<Figure size 432x288 with 1 Axes>"
      ]
     },
     "metadata": {
      "needs_background": "light"
     },
     "output_type": "display_data"
    }
   ],
   "source": [
    "for i in range(50):\n",
    "    plt.plot(data[i][0],data[i][1], marker='o', color='black')\n",
    "plt.plot(random_points[0][0], random_points[0][1], marker='x', color='red')\n",
    "plt.plot(random_points[1][0], random_points[1][1], marker='x', color='blue')"
   ]
  },
  {
   "cell_type": "code",
   "execution_count": 98,
   "metadata": {},
   "outputs": [
    {
     "data": {
      "image/png": "[encoded data removed]",
      "text/plain": [
       "<Figure size 432x288 with 1 Axes>"
      ]
     },
     "metadata": {
      "needs_background": "light"
     },
     "output_type": "display_data"
    }
   ],
   "source": [
    "def distance(x,y):\n",
    "    return np.sqrt(pow((x[0]-y[0]),2)+pow((x[1]-y[1]),2))\n",
    "\n",
    "plt.plot(random_points[0][0], random_points[0][1], marker='x', color='red')\n",
    "plt.plot(random_points[1][0], random_points[1][1], marker='x', color='blue')\n",
    "\n",
    "for i in range(50):\n",
    "    if ((distance(data[i],random_points[0])) > (distance(data[i],random_points[1]))):\n",
    "        plt.plot(data[i][0], data[i][1], marker='o', color='blue')\n",
    "        b.append([data[i][0], data[i][1]])\n",
    "        cnt_blue += 1\n",
    "    else:\n",
    "        plt.plot(data[i][0], data[i][1], marker='o', color='red')\n",
    "        r.append([data[i][0], data[i][1]])\n",
    "        cnt_red += 1"
   ]
  },
  {
   "cell_type": "code",
   "execution_count": 99,
   "metadata": {},
   "outputs": [
    {
     "ename": "TypeError",
     "evalue": "'int' object is not iterable",
     "output_type": "error",
     "traceback": [
      "\u001b[1;31m---------------------------------------------------------------------------\u001b[0m",
      "\u001b[1;31mTypeError\u001b[0m                                 Traceback (most recent call last)",
      "\u001b[1;32m<ipython-input-99-6c5f10147530>\u001b[0m in \u001b[0;36m<module>\u001b[1;34m\u001b[0m\n\u001b[0;32m      5\u001b[0m \u001b[1;33m\u001b[0m\u001b[0m\n\u001b[0;32m      6\u001b[0m \u001b[1;32mfor\u001b[0m \u001b[0mi\u001b[0m \u001b[1;32min\u001b[0m \u001b[0mrange\u001b[0m\u001b[1;33m(\u001b[0m\u001b[0mcnt_red\u001b[0m\u001b[1;33m)\u001b[0m\u001b[1;33m:\u001b[0m\u001b[1;33m\u001b[0m\u001b[1;33m\u001b[0m\u001b[0m\n\u001b[1;32m----> 7\u001b[1;33m     \u001b[0mrandom_points\u001b[0m\u001b[1;33m[\u001b[0m\u001b[1;36m0\u001b[0m\u001b[1;33m]\u001b[0m\u001b[1;33m[\u001b[0m\u001b[1;36m0\u001b[0m\u001b[1;33m]\u001b[0m \u001b[1;33m+=\u001b[0m \u001b[0mr\u001b[0m\u001b[1;33m[\u001b[0m\u001b[0mi\u001b[0m\u001b[1;33m]\u001b[0m\u001b[1;33m[\u001b[0m\u001b[1;36m0\u001b[0m\u001b[1;33m]\u001b[0m\u001b[1;33m\u001b[0m\u001b[1;33m\u001b[0m\u001b[0m\n\u001b[0m\u001b[0;32m      8\u001b[0m     \u001b[0mrandom_points\u001b[0m\u001b[1;33m[\u001b[0m\u001b[1;36m0\u001b[0m\u001b[1;33m]\u001b[0m\u001b[1;33m[\u001b[0m\u001b[1;36m1\u001b[0m\u001b[1;33m]\u001b[0m \u001b[1;33m+=\u001b[0m \u001b[0mr\u001b[0m\u001b[1;33m[\u001b[0m\u001b[0mi\u001b[0m\u001b[1;33m]\u001b[0m\u001b[1;33m[\u001b[0m\u001b[1;36m1\u001b[0m\u001b[1;33m]\u001b[0m\u001b[1;33m\u001b[0m\u001b[1;33m\u001b[0m\u001b[0m\n\u001b[0;32m      9\u001b[0m \u001b[1;32mfor\u001b[0m \u001b[0mi\u001b[0m \u001b[1;32min\u001b[0m \u001b[0mrange\u001b[0m\u001b[1;33m(\u001b[0m\u001b[0mcnt_blue\u001b[0m\u001b[1;33m)\u001b[0m\u001b[1;33m:\u001b[0m\u001b[1;33m\u001b[0m\u001b[1;33m\u001b[0m\u001b[0m\n",
      "\u001b[1;31mTypeError\u001b[0m: 'int' object is not iterable"
     ]
    }
   ],
   "source": [
    "random_points[0][0] = [0]\n",
    "random_points[0][1] = [0]\n",
    "random_points[1][0] = [0]\n",
    "random_points[1][1] = [0]\n",
    "\n",
    "for i in range(cnt_red):\n",
    "    random_points[0][0] += r[i][0]\n",
    "    random_points[0][1] += r[i][1]\n",
    "for i in range(cnt_blue):\n",
    "    random_points[1][0] += b[i][0]\n",
    "    random_points[1][1] += b[i][1]\n",
    "    \n",
    "plt.plot(((new_points[0][0])/(cnt_red)), ((new_points[0][1])/(cnt_red)), marker='x', color='red')\n",
    "plt.plot(((new_points[1][0])/(cnt_blue)), ((new_points[1][1])/(cnt_blue)), marker='x', color='blue')\n",
    "\n",
    "for i in range(cnt_red):\n",
    "    plt.plot(r[i][0], r[i][1], marker='o', color='red')\n",
    "for i in range(cnt_blue):\n",
    "    plt.plot(b[i][0], b[i][1], marker='o', color='blue')\n",
    "\n"
   ]
  },
  {
   "cell_type": "code",
   "execution_count": null,
   "metadata": {},
   "outputs": [],
   "source": []
  }
 ],
 "metadata": {
  "kernelspec": {
   "display_name": "Python 3",
   "language": "python",
   "name": "python3"
  },
  "language_info": {
   "codemirror_mode": {
    "name": "ipython",
    "version": 3
   },
   "file_extension": ".py",
   "mimetype": "text/x-python",
   "name": "python",
   "nbconvert_exporter": "python",
   "pygments_lexer": "ipython3",
   "version": "3.7.3"
  }
 },
 "nbformat": 4,
 "nbformat_minor": 2
}
