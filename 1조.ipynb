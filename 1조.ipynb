{
 "cells": [
  {
   "cell_type": "markdown",
   "metadata": {},
   "source": [
    "# 과일을 분류\n",
    "\n",
    "## 당도 : 0 ~ 5\n",
    "## 크기 : 0 ~ 5\n",
    "## 색깔 : 0 ~ 5\n",
    "## 가격 : 0 ~ 5\n",
    "\n",
    "### 사과, 바나나, 체리, 두리안"
   ]
  },
  {
   "cell_type": "code",
   "execution_count": null,
   "metadata": {},
   "outputs": [],
   "source": [
    "import random\n",
    "import numpy as np\n",
    "a = [] # 사과 0\n",
    "b = [] # 바나나 1\n",
    "c = [] # 체리 2\n",
    "d = [] # 두리안 3\n",
    "\n",
    "for i in range(50):\n",
    "    a.append([random.randint(4, 1),#당도\n",
    "              random.randint(4, 1),#크기\n",
    "              random.randint(4, 1),#색깔\n",
    "              random.randint(4, 1), 0])#가격\n",
    "    \n",
    "    b.append([random.randint(3, 1), #당도\n",
    "              random.randint(3, 1), #크기\n",
    "              random.randint(3, 1), #색깔\n",
    "              random.randint(3, 1),1]) #가격\n",
    "    \n",
    "    c.append([random.randint(2, 1), #당도\n",
    "              random.randint(2, 1),#크기\n",
    "              random.randint(2, 1),#색깔\n",
    "              random.randint(2, 1),2])#가격\n",
    "    \n",
    "    d.append([random.randint(1, 1),#당도\n",
    "              random.randint(1, 1),#크기\n",
    "              random.randint(1, 1),#색깔\n",
    "              random.randint(1, 1),3])#가격"
   ]
  },
  {
   "cell_type": "code",
   "execution_count": null,
   "metadata": {},
   "outputs": [],
   "source": [
    "def distance(x,y):\n",
    "    #두 점 사이의 거리를 구하는 함수\n",
    "    return np.sqrt(pow((x[0]-y[0]),2)+pow((x[1]-y[1]),2))\n",
    "\n",
    "def knn(x,y,k):\n",
    "    result=[]\n",
    "    cnt=0\n",
    "    for i in range(len(y)):\n",
    "        result.append([distance(x,y[i]),y[i][2]])\n",
    "    result.sort()\n",
    "    for i in range(k):\n",
    "        if (result[i][1]==1):\n",
    "            cnt +=1\n",
    "    if (cnt > (k/2)):\n",
    "        print (\"당신은 여자입니다.\")\n",
    "    else:\n",
    "        print(\"당신은 남자입니다.\")"
   ]
  },
  {
   "cell_type": "code",
   "execution_count": null,
   "metadata": {},
   "outputs": [],
   "source": [
    "sweet = input(\"당도를 입력하시오\")"
   ]
  },
  {
   "cell_type": "code",
   "execution_count": null,
   "metadata": {},
   "outputs": [],
   "source": [
    "size = input(\"크기를 입력하시오\")"
   ]
  },
  {
   "cell_type": "code",
   "execution_count": null,
   "metadata": {},
   "outputs": [],
   "source": [
    "color = input(\"색깔을 입력하시오\")"
   ]
  },
  {
   "cell_type": "code",
   "execution_count": null,
   "metadata": {},
   "outputs": [],
   "source": [
    "price = input(\"가격을 입력하시오\")"
   ]
  }
 ],
 "metadata": {
  "kernelspec": {
   "display_name": "Python 3",
   "language": "python",
   "name": "python3"
  },
  "language_info": {
   "codemirror_mode": {
    "name": "ipython",
    "version": 3
   },
   "file_extension": ".py",
   "mimetype": "text/x-python",
   "name": "python",
   "nbconvert_exporter": "python",
   "pygments_lexer": "ipython3",
   "version": "3.7.3"
  }
 },
 "nbformat": 4,
 "nbformat_minor": 2
}
