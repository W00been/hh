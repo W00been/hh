{
 "cells": [
  {
   "cell_type": "markdown",
   "metadata": {},
   "source": [
    "# 1. 키, 몸무게 데이터 만들기\n",
    "\n",
    "# 2. 초기 랜덤 값 두 개 (k=2라고 가정)\n",
    "\n",
    "# 3. 두 점을 기준으로 영역을 나누기\n",
    "\n",
    "# 4. 새로운 영역에서 중심점을 새로 찾기 (평균)\n",
    "\n",
    "# 5. 새로운 점을 기준으로 영역 나누기\n",
    "\n",
    "# 6. 새로운 영역에서 중심점을 새로 찾기 (10번 반복)"
   ]
  },
  {
   "cell_type": "code",
   "execution_count": 147,
   "metadata": {},
   "outputs": [
    {
     "data": {
      "image/png": "[encoded data removed]",
      "text/plain": [
       "<Figure size 432x288 with 1 Axes>"
      ]
     },
     "metadata": {
      "needs_background": "light"
     },
     "output_type": "display_data"
    }
   ],
   "source": [
    "import numpy as np # ndarray 생성\n",
    "\n",
    "import matplotlib.pyplot as plt\n",
    "%matplotlib inline\n",
    "\n",
    "import random # 랜덤 함수 사용을 위한 절차\n",
    "data = []\n",
    "\n",
    "for i in range(50): # 하위 내용을 i값이 1씩 증가하면서 50번 반복\n",
    "    data.append([random.randint(40, 70), random.randint(140, 180)])\n",
    "    # [ 몸무게 40 ~ 70 까지 , 키 140 ~ 180 까지 ] data에 추가\n",
    "    data.append([random.randint(80, 90), random.randint(180, 200)])\n",
    "    # [ 몸무게 80 ~ 90 까지 , 키 180 ~ 200 까지 ] data에 추가\n",
    "    \n",
    "for i in data:\n",
    "    plt.plot(i[0], i[1], 'ko') "
   ]
  },
  {
   "cell_type": "code",
   "execution_count": 148,
   "metadata": {},
   "outputs": [
    {
     "name": "stdout",
     "output_type": "stream",
     "text": [
      "[[55, 157], [90, 180], [66, 176], [89, 198], [54, 158], [83, 198], [68, 169], [87, 190], [59, 158], [81, 197], [44, 169], [84, 195], [52, 161], [84, 185], [49, 156], [80, 181], [63, 156], [81, 180], [58, 147], [85, 185], [63, 146], [81, 181], [52, 167], [85, 187], [65, 148], [80, 185], [68, 140], [88, 189], [41, 163], [87, 185], [56, 161], [87, 195], [44, 147], [81, 198], [52, 149], [84, 199], [54, 148], [87, 190], [58, 141], [82, 187], [63, 165], [85, 185], [60, 165], [86, 188], [40, 156], [88, 189], [58, 142], [87, 181], [60, 158], [90, 197], [47, 169], [90, 199], [67, 151], [84, 182], [69, 177], [89, 189], [57, 163], [81, 182], [41, 149], [88, 194], [53, 150], [88, 194], [48, 142], [86, 187], [49, 170], [80, 194], [66, 154], [82, 197], [42, 150], [86, 183], [60, 167], [87, 180], [55, 146], [88, 192], [59, 144], [82, 188], [58, 148], [81, 186], [60, 180], [83, 181], [54, 177], [81, 182], [64, 144], [83, 195], [45, 179], [82, 181], [57, 163], [86, 184], [50, 145], [80, 196], [67, 173], [88, 184], [54, 147], [87, 180], [57, 157], [90, 195], [40, 148], [85, 184], [42, 157], [90, 190]]\n"
     ]
    }
   ],
   "source": [
    "print(data)"
   ]
  },
  {
   "cell_type": "code",
   "execution_count": 149,
   "metadata": {},
   "outputs": [
    {
     "name": "stdout",
     "output_type": "stream",
     "text": [
      "[[83, 173], [58, 157]]\n"
     ]
    }
   ],
   "source": [
    "random_points = [[random.randint(40,90), random.randint(140,200)], [random.randint(40,90), random.randint(140,200)]]\n",
    "print(random_points)"
   ]
  },
  {
   "cell_type": "code",
   "execution_count": 150,
   "metadata": {},
   "outputs": [
    {
     "data": {
      "image/png": "[encoded data removed]",
      "text/plain": [
       "<Figure size 432x288 with 1 Axes>"
      ]
     },
     "metadata": {
      "needs_background": "light"
     },
     "output_type": "display_data"
    }
   ],
   "source": [
    "for i in data:\n",
    "    plt.plot(i[0],i[1], 'ko')\n",
    "plt.plot(random_points[0][0], random_points[0][1], 'rx')\n",
    "plt.plot(random_points[1][0], random_points[1][1], 'bx')\n",
    "def distance(x,y):\n",
    "    return np.sqrt(pow((x[0]-y[0]),2)+pow((x[1]-y[1]),2))"
   ]
  },
  {
   "cell_type": "code",
   "execution_count": 151,
   "metadata": {
    "scrolled": true
   },
   "outputs": [
    {
     "name": "stdout",
     "output_type": "stream",
     "text": [
      "[[83.68518518518519, 187.38888888888889], [54.19565217391305, 155.6086956521739]]\n",
      "[[83.84905660377359, 187.8679245283019], [54.638297872340424, 155.74468085106383]]\n",
      "[[84.3076923076923, 188.01923076923077], [54.75, 156.25]]\n",
      "[[84.3076923076923, 188.01923076923077], [54.75, 156.25]]\n",
      "[[84.3076923076923, 188.01923076923077], [54.75, 156.25]]\n",
      "[[84.3076923076923, 188.01923076923077], [54.75, 156.25]]\n",
      "[[84.3076923076923, 188.01923076923077], [54.75, 156.25]]\n",
      "[[84.3076923076923, 188.01923076923077], [54.75, 156.25]]\n",
      "[[84.3076923076923, 188.01923076923077], [54.75, 156.25]]\n",
      "[[84.3076923076923, 188.01923076923077], [54.75, 156.25]]\n"
     ]
    },
    {
     "data": {
      "image/png": "[encoded data removed]",
      "text/plain": [
       "<Figure size 432x288 with 1 Axes>"
      ]
     },
     "metadata": {
      "needs_background": "light"
     },
     "output_type": "display_data"
    }
   ],
   "source": [
    "for j in range(10):\n",
    "    \n",
    "    r = []\n",
    "    b = []\n",
    "    \n",
    "    for i in data:\n",
    "        if (distance(i,random_points[0]) > distance(i,random_points[1])):\n",
    "            b.append(i)\n",
    "\n",
    "        else:\n",
    "            r.append(i)\n",
    "\n",
    "    sum1 = 0\n",
    "    sum2 = 0\n",
    "    for i in r:\n",
    "        sum1 += i[0]\n",
    "        sum2 += i[1]\n",
    "    new_points = []\n",
    "    new_points.append([sum1/len(r), sum2/len(r)])\n",
    "\n",
    "    sum1 = 0\n",
    "    sum2 = 0\n",
    "    for i in b:\n",
    "        sum1 += i[0]\n",
    "        sum2 += i[1]\n",
    "    new_points.append([sum1/len(b), sum2/len(b)])\n",
    "\n",
    "    print(new_points)\n",
    "    \n",
    "    random_points[0][0] = new_points[0][0]\n",
    "    random_points[0][1] = new_points[0][1]\n",
    "    random_points[1][0] = new_points[1][0]\n",
    "    random_points[1][1] = new_points[1][1]\n",
    "    \n",
    "\n",
    "plt.plot(new_points[0][0], new_points[0][1], 'rx')\n",
    "plt.plot(new_points[1][0], new_points[1][1], 'bx')\n",
    "\n",
    "for i in r:\n",
    "    plt.plot(i[0], i[1], 'ro')\n",
    "for i in b:\n",
    "    plt.plot(i[0], i[1], 'bo')"
   ]
  },
  {
   "cell_type": "code",
   "execution_count": null,
   "metadata": {},
   "outputs": [],
   "source": []
  }
 ],
 "metadata": {
  "kernelspec": {
   "display_name": "Python 3",
   "language": "python",
   "name": "python3"
  },
  "language_info": {
   "codemirror_mode": {
    "name": "ipython",
    "version": 3
   },
   "file_extension": ".py",
   "mimetype": "text/x-python",
   "name": "python",
   "nbconvert_exporter": "python",
   "pygments_lexer": "ipython3",
   "version": "3.7.3"
  }
 },
 "nbformat": 4,
 "nbformat_minor": 2
}
