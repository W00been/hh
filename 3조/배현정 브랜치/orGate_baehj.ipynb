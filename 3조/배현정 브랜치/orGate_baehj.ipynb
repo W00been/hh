{
 "cells": [
  {
   "cell_type": "code",
   "execution_count": 7,
   "metadata": {},
   "outputs": [
    {
     "name": "stdout",
     "output_type": "stream",
     "text": [
      "!!!!!!!!!! OR GATE !!!!!!!!!!\n",
      "\n",
      "(0, 0) -> 0\n",
      "(1, 0) -> 1\n",
      "(0, 1) -> 1\n",
      "(1, 1) -> 1\n"
     ]
    }
   ],
   "source": [
    "import numpy as np # \n",
    "\n",
    "# OR 함수\n",
    "def OR(x1,x2):\n",
    "    x = np.array([x1,x2]) # i 값을 인수로 받아서 x로 처리\n",
    "    w = np.array([0.5, 0.5])\n",
    "    b = -0.2\n",
    "    tmp = np.sum(w*x) + b # x1*(-0.7) + x2*(-0.7) + 0.5\n",
    "    if tmp <= 0: # tmp 값에 따라 return\n",
    "        return 0\n",
    "    else:\n",
    "        return 1\n",
    "    \n",
    "print (\"!!!!!!!!!! OR GATE !!!!!!!!!!\")\n",
    "print()\n",
    "for i in [(0,0), (1,0), (0,1), (1,1)]:\n",
    "    y = OR(i[0], i[1])\n",
    "    print(str(i) + \" -> \" + str(y))"
   ]
  },
  {
   "cell_type": "code",
   "execution_count": null,
   "metadata": {},
   "outputs": [],
   "source": []
  }
 ],
 "metadata": {
  "kernelspec": {
   "display_name": "Python 3",
   "language": "python",
   "name": "python3"
  },
  "language_info": {
   "codemirror_mode": {
    "name": "ipython",
    "version": 3
   },
   "file_extension": ".py",
   "mimetype": "text/x-python",
   "name": "python",
   "nbconvert_exporter": "python",
   "pygments_lexer": "ipython3",
   "version": "3.7.3"
  }
 },
 "nbformat": 4,
 "nbformat_minor": 2
}
