{
 "cells": [
  {
   "cell_type": "markdown",
   "metadata": {},
   "source": [
    "# 과일을 분류를 합니다.\n",
    "\n",
    "## 당도 0 ~ 5\n",
    "## 크기 0 ~ 5\n",
    "## 색깔 0 ~ 5 ( ex : 주황색, 노랑색, 파랑색 ... )\n",
    "## 단단함 0 ~ 5\n",
    "\n",
    "\n",
    "# 오렌지, 수박, 사과, 복숭아 ... 값을 주고\n",
    "\n",
    "# ( ) 의 과일은 무엇인가 ? 를 구하라."
   ]
  },
  {
   "cell_type": "code",
   "execution_count": null,
   "metadata": {},
   "outputs": [],
   "source": []
  }
 ],
 "metadata": {
  "kernelspec": {
   "display_name": "Python 3",
   "language": "python",
   "name": "python3"
  },
  "language_info": {
   "codemirror_mode": {
    "name": "ipython",
    "version": 3
   },
   "file_extension": ".py",
   "mimetype": "text/x-python",
   "name": "python",
   "nbconvert_exporter": "python",
   "pygments_lexer": "ipython3",
   "version": "3.7.3"
  }
 },
 "nbformat": 4,
 "nbformat_minor": 2
}
