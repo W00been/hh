{
 "cells": [
  {
   "cell_type": "code",
   "execution_count": 172,
   "metadata": {},
   "outputs": [],
   "source": [
    "import numpy as np\n",
    "import random\n",
    "import matplotlib.pyplot as plt\n",
    "%matplotlib inline"
   ]
  },
  {
   "cell_type": "code",
   "execution_count": 173,
   "metadata": {},
   "outputs": [],
   "source": [
    "r = []\n",
    "b = []\n",
    "for i in range(50):\n",
    "    r.append([random.randint(40, 70), random.randint(140, 180), 1])\n",
    "    b.append([random.randint(60, 90), random.randint(160, 200), 0])"
   ]
  },
  {
   "cell_type": "code",
   "execution_count": 174,
   "metadata": {},
   "outputs": [
    {
     "name": "stdout",
     "output_type": "stream",
     "text": [
      "키를 입력해주세요.\n",
      "180\n",
      "몸무게를 입력해주세요.\n",
      "90\n",
      "k의 갯수를 입력해주세요.\n",
      "5\n"
     ]
    },
    {
     "data": {
      "text/plain": [
       "[<matplotlib.lines.Line2D at 0x2531cd34978>]"
      ]
     },
     "execution_count": 174,
     "metadata": {},
     "output_type": "execute_result"
    },
    {
     "data": {
      "image/png": "[encoded data removed]",
      "text/plain": [
       "<Figure size 432x288 with 1 Axes>"
      ]
     },
     "metadata": {
      "needs_background": "light"
     },
     "output_type": "display_data"
    }
   ],
   "source": [
    "for i in range(50):\n",
    "    plt.plot(r[i][0], r[i][1], marker='o', color = 'red')\n",
    "    plt.plot(b[i][0], b[i][1], marker='o', color = 'blue')\n",
    "    \n",
    "print(\"키를 입력해주세요.\")\n",
    "height = int(input())\n",
    "print(\"몸무게를 입력해주세요.\")\n",
    "weight = int(input())\n",
    "new = [weight, height, 0]\n",
    "print(\"k의 갯수를 입력해주세요.\")\n",
    "kcount = int(input())\n",
    "\n",
    "plt.plot(new[0], new[1], marker = 'x', color = 'black')"
   ]
  },
  {
   "cell_type": "code",
   "execution_count": 175,
   "metadata": {},
   "outputs": [],
   "source": [
    "def distance(x, y):\n",
    "    return int(np.sqrt(pow((x[0]-y[0]), 2) + pow((x[1]-y[1]), 2)))"
   ]
  },
  {
   "cell_type": "code",
   "execution_count": 176,
   "metadata": {},
   "outputs": [],
   "source": [
    "result = []\n",
    "for i in range(50):\n",
    "    result.append([distance(new, r[i]), r[i][2]])\n",
    "    result.append([distance(new, b[i]), b[i][2]])"
   ]
  },
  {
   "cell_type": "code",
   "execution_count": 177,
   "metadata": {},
   "outputs": [
    {
     "name": "stdout",
     "output_type": "stream",
     "text": [
      "[[30, 1], [10, 0], [31, 1], [5, 0], [52, 1], [26, 0], [47, 1], [33, 0], [39, 1], [15, 0], [52, 1], [28, 0], [30, 1], [15, 0], [59, 1], [7, 0], [36, 1], [11, 0], [34, 1], [13, 0], [51, 1], [27, 0], [48, 1], [10, 0], [56, 1], [12, 0], [42, 1], [36, 0], [51, 1], [28, 0], [52, 1], [2, 0], [45, 1], [10, 0], [41, 1], [17, 0], [48, 1], [26, 0], [41, 1], [14, 0], [47, 1], [10, 0], [30, 1], [21, 0], [55, 1], [16, 0], [44, 1], [19, 0], [53, 1], [13, 0], [53, 1], [10, 0], [48, 1], [14, 0], [46, 1], [12, 0], [50, 1], [33, 0], [20, 1], [19, 0], [48, 1], [23, 0], [46, 1], [28, 0], [47, 1], [30, 0], [40, 1], [31, 0], [48, 1], [19, 0], [25, 1], [10, 0], [54, 1], [30, 0], [45, 1], [13, 0], [50, 1], [8, 0], [26, 1], [10, 0], [47, 1], [29, 0], [37, 1], [20, 0], [25, 1], [32, 0], [43, 1], [20, 0], [34, 1], [16, 0], [46, 1], [23, 0], [41, 1], [11, 0], [42, 1], [21, 0], [43, 1], [33, 0], [41, 1], [20, 0]]\n"
     ]
    }
   ],
   "source": [
    "print(result)"
   ]
  },
  {
   "cell_type": "code",
   "execution_count": 178,
   "metadata": {},
   "outputs": [
    {
     "name": "stdout",
     "output_type": "stream",
     "text": [
      "[[2, 0], [5, 0], [7, 0], [8, 0], [10, 0], [10, 0], [10, 0], [10, 0], [10, 0], [10, 0], [10, 0], [11, 0], [11, 0], [12, 0], [12, 0], [13, 0], [13, 0], [13, 0], [14, 0], [14, 0], [15, 0], [15, 0], [16, 0], [16, 0], [17, 0], [19, 0], [19, 0], [19, 0], [20, 0], [20, 0], [20, 0], [20, 1], [21, 0], [21, 0], [23, 0], [23, 0], [25, 1], [25, 1], [26, 0], [26, 0], [26, 1], [27, 0], [28, 0], [28, 0], [28, 0], [29, 0], [30, 0], [30, 0], [30, 1], [30, 1], [30, 1], [31, 0], [31, 1], [32, 0], [33, 0], [33, 0], [33, 0], [34, 1], [34, 1], [36, 0], [36, 1], [37, 1], [39, 1], [40, 1], [41, 1], [41, 1], [41, 1], [41, 1], [42, 1], [42, 1], [43, 1], [43, 1], [44, 1], [45, 1], [45, 1], [46, 1], [46, 1], [46, 1], [47, 1], [47, 1], [47, 1], [47, 1], [48, 1], [48, 1], [48, 1], [48, 1], [48, 1], [50, 1], [50, 1], [51, 1], [51, 1], [52, 1], [52, 1], [52, 1], [53, 1], [53, 1], [54, 1], [55, 1], [56, 1], [59, 1]]\n"
     ]
    }
   ],
   "source": [
    "result.sort()\n",
    "print(result)"
   ]
  },
  {
   "cell_type": "code",
   "execution_count": 179,
   "metadata": {},
   "outputs": [
    {
     "name": "stdout",
     "output_type": "stream",
     "text": [
      "당신은 남자입니다.\n"
     ]
    }
   ],
   "source": [
    "sum = 0.0\n",
    "for i in range(kcount):\n",
    "    sum += result[i][1]\n",
    "avg = sum / kcount\n",
    "\n",
    "if(avg > 0.5):\n",
    "    print(\"당신은 여자입니다.\")\n",
    "else:\n",
    "    print(\"당신은 남자입니다.\")"
   ]
  },
  {
   "cell_type": "code",
   "execution_count": null,
   "metadata": {},
   "outputs": [],
   "source": []
  },
  {
   "cell_type": "markdown",
   "metadata": {},
   "source": [
    "# Teacher's Code"
   ]
  },
  {
   "cell_type": "code",
   "execution_count": 201,
   "metadata": {},
   "outputs": [],
   "source": [
    "import random\n",
    "r = []\n",
    "b = []\n",
    "for i in range(50):\n",
    "    r.append([random.randint(40, 70), random.randint(140, 180), 1])\n",
    "    b.append([random.randint(60, 90), random.randint(160, 200), 0])"
   ]
  },
  {
   "cell_type": "code",
   "execution_count": 202,
   "metadata": {},
   "outputs": [],
   "source": [
    "def distance(x,y):\n",
    "    return np.sqrt(pow((x[0]-y[0]), 2) + pow((x[1] - y[1]), 2))"
   ]
  },
  {
   "cell_type": "code",
   "execution_count": 203,
   "metadata": {},
   "outputs": [],
   "source": [
    "def knn(x, y, k):\n",
    "    result = []\n",
    "    cnt = 0\n",
    "    for i in range(len(y)):\n",
    "        result.append([distance(x,y[i]),y[i][2]])\n",
    "    result.sort()\n",
    "    for i in range(k-1):\n",
    "        if(result[i][1] == 1):\n",
    "            cnt += 1\n",
    "    if(cnt > (k/2)):\n",
    "        print(\"당신은 여자입니다.\")\n",
    "    else:\n",
    "        print(\"당신은 남자입니다.\")"
   ]
  },
  {
   "cell_type": "code",
   "execution_count": 204,
   "metadata": {
    "scrolled": true
   },
   "outputs": [
    {
     "name": "stdout",
     "output_type": "stream",
     "text": [
      "몸무게를 입력해주세요.80\n"
     ]
    }
   ],
   "source": [
    "weight = input(\"몸무게를 입력해주세요.\")"
   ]
  },
  {
   "cell_type": "code",
   "execution_count": 205,
   "metadata": {},
   "outputs": [
    {
     "name": "stdout",
     "output_type": "stream",
     "text": [
      "키를 입력해주세요.170\n"
     ]
    }
   ],
   "source": [
    "height = input(\"키를 입력해주세요.\")"
   ]
  },
  {
   "cell_type": "code",
   "execution_count": 206,
   "metadata": {},
   "outputs": [
    {
     "name": "stdout",
     "output_type": "stream",
     "text": [
      "k를 입력해주세요.5\n"
     ]
    }
   ],
   "source": [
    "num = input(\"k를 입력해주세요.\")"
   ]
  },
  {
   "cell_type": "code",
   "execution_count": 207,
   "metadata": {},
   "outputs": [],
   "source": [
    "new = [int(weight), int(height)]"
   ]
  },
  {
   "cell_type": "code",
   "execution_count": 208,
   "metadata": {},
   "outputs": [
    {
     "name": "stdout",
     "output_type": "stream",
     "text": [
      "당신은 남자입니다.\n"
     ]
    }
   ],
   "source": [
    "knn(new, r+b, int(num))"
   ]
  },
  {
   "cell_type": "code",
   "execution_count": null,
   "metadata": {},
   "outputs": [],
   "source": []
  },
  {
   "cell_type": "code",
   "execution_count": null,
   "metadata": {},
   "outputs": [],
   "source": []
  },
  {
   "cell_type": "code",
   "execution_count": 199,
   "metadata": {},
   "outputs": [],
   "source": [
    "import random\n",
    "r = []\n",
    "b = []\n",
    "for i in range(50):\n",
    "    r.append([random.randint(40, 70), random.randint(140, 180), 1])\n",
    "    b.append([random.randint(60, 90), random.randint(160, 200), 0])"
   ]
  },
  {
   "cell_type": "code",
   "execution_count": 200,
   "metadata": {},
   "outputs": [
    {
     "data": {
      "text/plain": [
       "[<matplotlib.lines.Line2D at 0x2531e77b7b8>]"
      ]
     },
     "execution_count": 200,
     "metadata": {},
     "output_type": "execute_result"
    },
    {
     "data": {
      "image/png": "[encoded data removed]",
      "text/plain": [
       "<Figure size 432x288 with 1 Axes>"
      ]
     },
     "metadata": {
      "needs_background": "light"
     },
     "output_type": "display_data"
    }
   ],
   "source": [
    "for i in range(50):\n",
    "    plt.plot(r[i][0], r[i][1], marker='o', color = 'red')\n",
    "    plt.plot(b[i][0], b[i][1], marker='o', color = 'blue')\n",
    "    \n",
    "new = [55, 170, 1]\n",
    "\n",
    "plt.plot(new[0], new[1], marker = 'x', color = 'black')"
   ]
  },
  {
   "cell_type": "code",
   "execution_count": null,
   "metadata": {},
   "outputs": [],
   "source": []
  }
 ],
 "metadata": {
  "kernelspec": {
   "display_name": "Python 3",
   "language": "python",
   "name": "python3"
  },
  "language_info": {
   "codemirror_mode": {
    "name": "ipython",
    "version": 3
   },
   "file_extension": ".py",
   "mimetype": "text/x-python",
   "name": "python",
   "nbconvert_exporter": "python",
   "pygments_lexer": "ipython3",
   "version": "3.7.3"
  }
 },
 "nbformat": 4,
 "nbformat_minor": 2
}
