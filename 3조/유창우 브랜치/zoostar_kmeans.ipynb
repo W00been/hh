{
 "cells": [
  {
   "cell_type": "code",
   "execution_count": 53,
   "metadata": {},
   "outputs": [],
   "source": [
    "import random # 랜덤 함수 사용을 위한 절차\n",
    "import numpy as np # ndarray 생성\n",
    "\n",
    "import matplotlib.pyplot as plt\n",
    "\n",
    "\n",
    "data = []\n",
    "for i in range(50): # 하위 내용을 i 값이 1씩 증가하면서 50번 반복\n",
    "    data.append([random.randint(40, 70),random.randint(140, 180)])\n",
    "    # [ 몸무게 40 ~ 70 , 키 140 ~ 180 까지 ] data에 추가\n",
    "    data.append([random.randint(60, 90),random.randint(160, 200)])\n",
    "    # [ 몸무게 60 ~ 90 , 키 160 ~ 200 까지 ] data에 추가"
   ]
  },
  {
   "cell_type": "code",
   "execution_count": 54,
   "metadata": {
    "scrolled": true
   },
   "outputs": [
    {
     "name": "stdout",
     "output_type": "stream",
     "text": [
      "[[61, 149], [69, 199], [68, 177], [85, 173], [65, 148], [74, 195], [51, 180], [81, 196], [61, 175], [90, 184], [42, 152], [87, 191], [59, 168], [64, 168], [68, 180], [83, 172], [55, 151], [66, 160], [58, 145], [84, 170], [42, 177], [81, 195], [55, 155], [85, 191], [65, 153], [80, 189], [60, 159], [82, 200], [68, 154], [87, 160], [48, 146], [77, 186], [40, 173], [69, 198], [67, 163], [81, 184], [55, 151], [65, 180], [62, 158], [86, 172], [44, 157], [77, 183], [46, 176], [88, 189], [66, 177], [63, 174], [59, 173], [75, 161], [68, 173], [75, 181], [42, 171], [74, 171], [49, 180], [67, 162], [47, 148], [70, 192], [54, 177], [84, 192], [67, 177], [74, 194], [40, 162], [80, 179], [56, 157], [84, 170], [61, 159], [73, 168], [64, 167], [80, 186], [42, 170], [82, 181], [66, 145], [76, 179], [42, 162], [63, 172], [53, 156], [75, 169], [50, 162], [82, 176], [41, 151], [89, 174], [63, 172], [75, 189], [49, 180], [69, 176], [45, 164], [79, 187], [70, 149], [87, 200], [43, 163], [79, 160], [40, 167], [69, 186], [46, 164], [61, 184], [58, 150], [88, 181], [53, 176], [74, 191], [61, 156], [71, 175]]\n"
     ]
    }
   ],
   "source": [
    "print(data) # data를 출력"
   ]
  },
  {
   "cell_type": "code",
   "execution_count": 55,
   "metadata": {},
   "outputs": [
    {
     "name": "stdout",
     "output_type": "stream",
     "text": [
      "[[74, 146], [40, 172]]\n"
     ]
    }
   ],
   "source": [
    "# random_points에 몸무게, 키 랜덤 값 2개 삽입\n",
    "random_points = [[random.randint(40, 90),random.randint(140, 200)],\n",
    "                 [random.randint(40, 90),random.randint(140, 200)]]\n",
    "\n",
    "# random_points 출력\n",
    "print(random_points)"
   ]
  },
  {
   "cell_type": "code",
   "execution_count": 56,
   "metadata": {
    "scrolled": true
   },
   "outputs": [
    {
     "data": {
      "text/plain": [
       "[<matplotlib.lines.Line2D at 0x2b8a878d6d8>]"
      ]
     },
     "execution_count": 56,
     "metadata": {},
     "output_type": "execute_result"
    },
    {
     "data": {
      "image/png": "[encoded data removed]",
      "text/plain": [
       "<Figure size 432x288 with 1 Axes>"
      ]
     },
     "metadata": {
      "needs_background": "light"
     },
     "output_type": "display_data"
    }
   ],
   "source": [
    "# data[i][0], data[i][1]을 data 리스트 수 만큼 \n",
    "# 즉, 모든 점들을 검은색 o로 그래프에 표현\n",
    "for i in data:\n",
    "    plt.plot(i[0],i[1],'o',color='k')\n",
    "# random_points[0][0], random_points[0][1]을\n",
    "# 즉, 새로운 점 하나를 빨간색 x로 그래프에 표현\n",
    "plt.plot(random_points[0][0],random_points[0][1],'x',color='r')\n",
    "# random_points[1][0], random_points[1][1]을\n",
    "# 즉, 두번째 새로운 점을 파란색 x로 그래프에 표현\n",
    "plt.plot(random_points[1][0],random_points[1][1],'x',color='b')"
   ]
  },
  {
   "cell_type": "code",
   "execution_count": 57,
   "metadata": {},
   "outputs": [],
   "source": [
    "tmp1 = []\n",
    "tmp2 = []"
   ]
  },
  {
   "cell_type": "code",
   "execution_count": 58,
   "metadata": {},
   "outputs": [],
   "source": [
    "def dist(x,y): # 영역을 나누기 위해 두 점 사이의 거리를 구하는 함수\n",
    "    return np.sqrt((x[0]-y[0])**2 +(x[1]-y[1])**2)"
   ]
  },
  {
   "cell_type": "code",
   "execution_count": 59,
   "metadata": {},
   "outputs": [],
   "source": [
    "# 랜덤 점과 모든 점들의 거리를 구해 가까운 쪽의 영역으로 추가\n",
    "for i in data:\n",
    "    if (dist(random_points[0],i) > dist(random_points[1],i)):\n",
    "        tmp2.append(i)\n",
    "    else:\n",
    "        tmp1.append(i)\n",
    "    "
   ]
  },
  {
   "cell_type": "code",
   "execution_count": 60,
   "metadata": {},
   "outputs": [
    {
     "data": {
      "text/plain": [
       "[<matplotlib.lines.Line2D at 0x2b8a88e1898>]"
      ]
     },
     "execution_count": 60,
     "metadata": {},
     "output_type": "execute_result"
    },
    {
     "data": {
      "image/png": "[encoded data removed]",
      "text/plain": [
       "<Figure size 432x288 with 1 Axes>"
      ]
     },
     "metadata": {
      "needs_background": "light"
     },
     "output_type": "display_data"
    }
   ],
   "source": [
    "# 새롭게 정렬된 tmp1[i][0], tmp1[i][1]을 \n",
    "# tmp1 리스트 수 만큼 노란색 o로 그래프에 표현\n",
    "for i in tmp1:\n",
    "    plt.plot(i[0],i[1],'o',color='y')\n",
    "# 새롭게 정렬된 tmp2[i][0], tmp2[i][1]을 \n",
    "# tmp2 리스트 수 만큼 초록색 o로 그래프에 표현\n",
    "for i in tmp2:\n",
    "    plt.plot(i[0],i[1],'o',color='g')\n",
    "    \n",
    "# 위에 x표시로 되어있던 점 다시 표현\n",
    "plt.plot(random_points[0][0],random_points[0][1],'x',color='r')\n",
    "plt.plot(random_points[1][0],random_points[1][1],'x',color='b')"
   ]
  },
  {
   "cell_type": "code",
   "execution_count": 61,
   "metadata": {},
   "outputs": [],
   "source": [
    "# x표시 점들을 각 영역의 평균 위치로 이동시킬 것이다.\n",
    "sum1=0 # 값들을 합쳐놓기 위한 변수 선언\n",
    "sum2=0\n",
    "\n",
    "# tmp1 영역의 평균 값을 구하기 위해 전부 합한 후 합한 개수로 나눠\n",
    "# new_points에 저장\n",
    "for i in tmp1:\n",
    "    sum1 +=i[0]\n",
    "    sum2 +=i[1]\n",
    "new_points = []\n",
    "new_points.append([sum1/len(tmp1),sum2/len(tmp1)])\n",
    "\n",
    "\n",
    "sum1=0 # 값들을 합쳐놓기 위한 변수 선언\n",
    "sum2=0\n",
    "# tmp2 영역의 평균 값을 구하기 위해 전부 합한 후 합한 개수로 나눠\n",
    "# new_points에 저장\n",
    "for i in tmp2:\n",
    "    sum1 +=i[0]\n",
    "    sum2 +=i[1]\n",
    "new_points.append([sum1/len(tmp2),sum2/len(tmp2)])"
   ]
  },
  {
   "cell_type": "code",
   "execution_count": 62,
   "metadata": {},
   "outputs": [
    {
     "name": "stdout",
     "output_type": "stream",
     "text": [
      "[[72.67307692307692, 167.80769230769232], [58.645833333333336, 176.54166666666666]]\n"
     ]
    }
   ],
   "source": [
    "print(new_points) # new_points를 출력"
   ]
  },
  {
   "cell_type": "code",
   "execution_count": 63,
   "metadata": {},
   "outputs": [
    {
     "data": {
      "text/plain": [
       "[<matplotlib.lines.Line2D at 0x2b8a8a3f358>]"
      ]
     },
     "execution_count": 63,
     "metadata": {},
     "output_type": "execute_result"
    },
    {
     "data": {
      "image/png": "[encoded data removed]",
      "text/plain": [
       "<Figure size 432x288 with 1 Axes>"
      ]
     },
     "metadata": {
      "needs_background": "light"
     },
     "output_type": "display_data"
    }
   ],
   "source": [
    "# 새롭게 정렬된 tmp1[i][0], tmp1[i][1]을 \n",
    "# tmp1 리스트 수 만큼 노란색 o로 그래프에 표현\n",
    "for i in tmp1:\n",
    "    plt.plot(i[0],i[1],'o',color='y')\n",
    "# 새롭게 정렬된 tmp2[i][0], tmp2[i][1]을 \n",
    "# tmp2 리스트 수 만큼 초록색 o로 그래프에 표현\n",
    "for i in tmp2:\n",
    "    plt.plot(i[0],i[1],'o',color='g')\n",
    "    \n",
    "# new_points(평균 위치로 이동된 x표시 점)을 그래프로 표현\n",
    "plt.plot(new_points[0][0],new_points[0][1],'x',color='r')\n",
    "plt.plot(new_points[1][0],new_points[1][1],'x',color='b')"
   ]
  },
  {
   "cell_type": "code",
   "execution_count": null,
   "metadata": {},
   "outputs": [],
   "source": []
  }
 ],
 "metadata": {
  "kernelspec": {
   "display_name": "Python 3",
   "language": "python",
   "name": "python3"
  },
  "language_info": {
   "codemirror_mode": {
    "name": "ipython",
    "version": 3
   },
   "file_extension": ".py",
   "mimetype": "text/x-python",
   "name": "python",
   "nbconvert_exporter": "python",
   "pygments_lexer": "ipython3",
   "version": "3.7.3"
  }
 },
 "nbformat": 4,
 "nbformat_minor": 2
}
