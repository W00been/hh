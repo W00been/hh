{
 "cells": [
  {
   "cell_type": "code",
   "execution_count": 1,
   "metadata": {},
   "outputs": [
    {
     "name": "stdout",
     "output_type": "stream",
     "text": [
      "몸무게를 입력하세요:50\n",
      "키를 입력해주세요:170\n",
      "k를 입력해주세요:5\n",
      "당신은 남자\n"
     ]
    }
   ],
   "source": [
    "r = [] #여자 1\n",
    "b = [] #남자 0\n",
    "cnt = 0\n",
    "k = 0\n",
    "weight = input(\"몸무게를 입력하세요:\")\n",
    "height = input(\"키를 입력해주세요:\")\n",
    "num = input(\"k를 입력해주세요:\")\n",
    "new = [int(weight), int(height)]\n",
    "\n",
    "import random\n",
    "\n",
    "for i in range(50):\n",
    "    r.append([random.randint(40,70),random.randint(140,180),1])\n",
    "    b.append([random.randint(50,90),random.randint(160,200),0])\n",
    "\n",
    "def distance(x,y):\n",
    "    return np.sqrt(pow((x[0]-y[0]),2)+pow((x[1]-y[1]),2))\n",
    "\n",
    "def knn(x,y,k):\n",
    "    result = []\n",
    "    \n",
    "    \n",
    "    for i in range(len(y)):\n",
    "        result.append([distance(x,y[i],y[i][2])])\n",
    "    result.sort()\n",
    "    for i in range(k):\n",
    "        if(result[i][1]==1):\n",
    "            cnt += 1\n",
    "    \n",
    "if (cnt>(k/2)):\n",
    "    print(\"당신은 여자\")\n",
    "else:\n",
    "    print(\"당신은 남자\")"
   ]
  },
  {
   "cell_type": "code",
   "execution_count": null,
   "metadata": {},
   "outputs": [],
   "source": []
  }
 ],
 "metadata": {
  "kernelspec": {
   "display_name": "Python 3",
   "language": "python",
   "name": "python3"
  },
  "language_info": {
   "codemirror_mode": {
    "name": "ipython",
    "version": 3
   },
   "file_extension": ".py",
   "mimetype": "text/x-python",
   "name": "python",
   "nbconvert_exporter": "python",
   "pygments_lexer": "ipython3",
   "version": "3.7.3"
  }
 },
 "nbformat": 4,
 "nbformat_minor": 2
}
