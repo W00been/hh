{
 "cells": [
  {
   "cell_type": "code",
   "execution_count": 1,
   "metadata": {},
   "outputs": [],
   "source": [
    "import numpy as np\n",
    "import random"
   ]
  },
  {
   "cell_type": "code",
   "execution_count": 2,
   "metadata": {},
   "outputs": [],
   "source": [
    "import matplotlib.pyplot as plt\n",
    "%matplotlib inline"
   ]
  },
  {
   "cell_type": "code",
   "execution_count": 3,
   "metadata": {},
   "outputs": [],
   "source": [
    "r =[] #여자\n",
    "b = [] #남자\n",
    "for i in range(50):\n",
    "    r.append([random.randint(40,70),random.randint(140,180),1])\n",
    "    b.append([random.randint(60,90),random.randint(160,200),0])"
   ]
  },
  {
   "cell_type": "code",
   "execution_count": 4,
   "metadata": {},
   "outputs": [],
   "source": [
    "def distance(x,y):\n",
    "    #두 점 사이의 거리를 구하는 함수\n",
    "    return str(np.sqrt(pow((x[0]-y[0]),2)+pow((x[1]-y[1]),2)))"
   ]
  },
  {
   "cell_type": "code",
   "execution_count": 31,
   "metadata": {
    "scrolled": true
   },
   "outputs": [
    {
     "name": "stdout",
     "output_type": "stream",
     "text": [
      "키를 입력해주세요:170\n",
      "몸무게를 입력해주세요:46\n",
      "k의 값을 입력해주세요:7\n",
      "[46, 170, 0]\n",
      "[['25.238858928247925', 1], ['37.12142238654117', 0]]\n"
     ]
    },
    {
     "ename": "IndexError",
     "evalue": "list index out of range",
     "output_type": "error",
     "traceback": [
      "\u001b[1;31m---------------------------------------------------------------------------\u001b[0m",
      "\u001b[1;31mIndexError\u001b[0m                                Traceback (most recent call last)",
      "\u001b[1;32m<ipython-input-31-9243fbafa16e>\u001b[0m in \u001b[0;36m<module>\u001b[1;34m\u001b[0m\n\u001b[0;32m     25\u001b[0m     \u001b[1;32mfor\u001b[0m \u001b[0mj\u001b[0m \u001b[1;32min\u001b[0m \u001b[0mrange\u001b[0m\u001b[1;33m(\u001b[0m\u001b[1;36m50\u001b[0m\u001b[1;33m)\u001b[0m\u001b[1;33m:\u001b[0m\u001b[1;33m\u001b[0m\u001b[1;33m\u001b[0m\u001b[0m\n\u001b[0;32m     26\u001b[0m         \u001b[1;32mif\u001b[0m \u001b[0mcnt\u001b[0m \u001b[1;33m<\u001b[0m \u001b[0mk\u001b[0m\u001b[1;33m:\u001b[0m\u001b[1;33m\u001b[0m\u001b[1;33m\u001b[0m\u001b[0m\n\u001b[1;32m---> 27\u001b[1;33m             \u001b[1;32mif\u001b[0m \u001b[0mnum\u001b[0m \u001b[1;33m>\u001b[0m \u001b[0mresult\u001b[0m\u001b[1;33m[\u001b[0m\u001b[0mj\u001b[0m\u001b[1;33m]\u001b[0m\u001b[1;33m[\u001b[0m\u001b[1;36m0\u001b[0m\u001b[1;33m]\u001b[0m\u001b[1;33m:\u001b[0m\u001b[1;33m\u001b[0m\u001b[1;33m\u001b[0m\u001b[0m\n\u001b[0m\u001b[0;32m     28\u001b[0m                 \u001b[0mnum\u001b[0m \u001b[1;33m=\u001b[0m \u001b[0mresult\u001b[0m\u001b[1;33m[\u001b[0m\u001b[0mj\u001b[0m\u001b[1;33m]\u001b[0m\u001b[1;33m[\u001b[0m\u001b[1;36m0\u001b[0m\u001b[1;33m]\u001b[0m\u001b[1;33m\u001b[0m\u001b[1;33m\u001b[0m\u001b[0m\n\u001b[0;32m     29\u001b[0m                 \u001b[0mcnt\u001b[0m \u001b[1;33m+=\u001b[0m \u001b[1;36m1\u001b[0m\u001b[1;33m\u001b[0m\u001b[1;33m\u001b[0m\u001b[0m\n",
      "\u001b[1;31mIndexError\u001b[0m: list index out of range"
     ]
    },
    {
     "data": {
      "image/png": "[encoded data removed]",
      "text/plain": [
       "<Figure size 432x288 with 1 Axes>"
      ]
     },
     "metadata": {
      "needs_background": "light"
     },
     "output_type": "display_data"
    }
   ],
   "source": [
    "result = []\n",
    "num='0'\n",
    "str(num)\n",
    "cnt = 0\n",
    "re =0\n",
    "bu =0\n",
    "k=0\n",
    "new = [0,0,0]\n",
    "\n",
    "new[1] = int(input(\"키를 입력해주세요:\"))\n",
    "new[0] = int(input(\"몸무게를 입력해주세요:\"))\n",
    "k = int(input(\"k의 값을 입력해주세요:\"))\n",
    "print(new)\n",
    "\n",
    "for i in range(50):\n",
    "    plt.plot(r[i][0],r[i][1], marker='o', color='red')\n",
    "    plt.plot(b[i][0],b[i][1], marker='o', color='blue')\n",
    "    \n",
    "plt.plot(new[0],new[1], marker='x', color='black')\n",
    "\n",
    "for i in range(50):\n",
    "    result.append([distance(new,r[i]),r[i][2]])\n",
    "    result.append([distance(new,b[i]),b[i][2]])\n",
    "    print(result)\n",
    "    for j in range(50):\n",
    "        if cnt < k:\n",
    "            if num > result[j][0]:\n",
    "                num = result[j][0]\n",
    "                cnt += 1\n",
    "                if result[j][1] == 1:\n",
    "                    re +=1\n",
    "                else:\n",
    "                    bu +=1\n",
    "    \n",
    "if(re > bu):\n",
    "    print(\"당신은 여자입니다\")\n",
    "else:\n",
    "    print(\"당신은 남자입니다\")"
   ]
  },
  {
   "cell_type": "code",
   "execution_count": 21,
   "metadata": {},
   "outputs": [],
   "source": [
    "def distance(x,y):\n",
    "    #두 점 사이의 거리를 구하는 함수\n",
    "    return str(np.sqrt(pow((x[0]-y[0]),2)+pow((x[1]-y[1]),2)))\n",
    "def knn(x,y,k):\n",
    "    result=[]\n",
    "    cnt=0\n",
    "    for i in range(len(y)):\n",
    "        result.append([distance(x,y[i]),y[i][2]])\n",
    "    result.sort()\n",
    "    for i in range(k-1):\n",
    "        if(result[i][1]==1):\n",
    "            cnt +=1\n",
    "    if(cnt > (k/2)):\n",
    "        print(\"당신은 여자입니다\")\n",
    "    else:\n",
    "        print(\"당신은 남자입니다\")"
   ]
  },
  {
   "cell_type": "code",
   "execution_count": 20,
   "metadata": {},
   "outputs": [
    {
     "name": "stdout",
     "output_type": "stream",
     "text": [
      "몸무게를 입력해주세요:60\n",
      "키를 입력해주세요:170\n",
      "k 입력해주세요:7\n"
     ]
    }
   ],
   "source": [
    "weight = input(\"몸무게를 입력해주세요:\")\n",
    "height= input(\"키를 입력해주세요:\")\n",
    "k= input(\"k 입력해주세요:\")"
   ]
  },
  {
   "cell_type": "code",
   "execution_count": 14,
   "metadata": {},
   "outputs": [],
   "source": [
    "r =[] #여자\n",
    "b = [] #남자\n",
    "for i in range(50):\n",
    "    r.append([random.randint(40,70),random.randint(140,180),1])\n",
    "    b.append([random.randint(60,90),random.randint(160,200),0])"
   ]
  },
  {
   "cell_type": "code",
   "execution_count": null,
   "metadata": {},
   "outputs": [],
   "source": []
  }
 ],
 "metadata": {
  "kernelspec": {
   "display_name": "Python 3",
   "language": "python",
   "name": "python3"
  }
 },
 "nbformat": 4,
 "nbformat_minor": 2
}
