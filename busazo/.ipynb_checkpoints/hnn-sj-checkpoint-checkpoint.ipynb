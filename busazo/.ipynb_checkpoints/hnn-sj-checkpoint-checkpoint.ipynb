{
 "cells": [
  {
   "cell_type": "code",
   "execution_count": 2,
   "metadata": {},
   "outputs": [],
   "source": [
    "import numpy as np\n",
    "import random"
   ]
  },
  {
   "cell_type": "code",
   "execution_count": 3,
   "metadata": {},
   "outputs": [],
   "source": [
    "import matplotlib.pyplot as plt\n",
    "%matplotlib inline"
   ]
  },
  {
   "cell_type": "code",
   "execution_count": 4,
   "metadata": {},
   "outputs": [],
   "source": [
    "r =[] #여자\n",
    "b = [] #남자\n",
    "for i in range(50):\n",
    "    r.append([random.randint(40,70),random.randint(140,180),1,random.randint(80,105),random.randint(235,270)])\n",
    "    b.append([random.randint(60,90),random.randint(160,200),0,random.randint(85,115),random.randint(250,300)])\n",
    "    # 몸무게 키 혈압"
   ]
  },
  {
   "cell_type": "code",
   "execution_count": 5,
   "metadata": {},
   "outputs": [],
   "source": [
    "def distance(x,y):\n",
    "    #두 점 사이의 거리를 구하는 함수\n",
    "    return str(np.sqrt(pow((x[0]-y[0]),2)+pow((x[1]-y[1]),2)))"
   ]
  },
  {
   "cell_type": "code",
   "execution_count": 7,
   "metadata": {
    "scrolled": true
   },
   "outputs": [
    {
     "name": "stdout",
     "output_type": "stream",
     "text": [
      "키를 입력해주세요:170\n",
      "몸무게를 입력해주세요:90\n",
      "k의 값을 입력해주세요:7\n",
      "어깨 사이즈를 입력해주세요:100\n",
      "발크기를 입력해주세요:270\n",
      "50\n",
      "당신은 남자입니다\n"
     ]
    },
    {
     "data": {
      "image/png": "[encoded data removed]",
      "text/plain": [
       "<Figure size 432x288 with 1 Axes>"
      ]
     },
     "metadata": {
      "needs_background": "light"
     },
     "output_type": "display_data"
    }
   ],
   "source": [
    "result = []\n",
    "re =0\n",
    "k=0\n",
    "new = [0,0,0,0,0,0]\n",
    "a=[50,50,50]\n",
    "\n",
    "new[1] = int(input(\"키를 입력해주세요:\"))\n",
    "new[0] = int(input(\"몸무게를 입력해주세요:\"))\n",
    "k = int(input(\"k의 값을 입력해주세요:\"))\n",
    "new[2] = int(input(\"어깨 사이즈를 입력해주세요:\"))\n",
    "new[3] = int(input(\"발크기를 입력해주세요:\"))\n",
    "\n",
    "print(len(r))\n",
    "\n",
    "for i in range(a[0]):\n",
    "    plt.plot(r[i][0],r[i][1], marker='o', color='red')\n",
    "    plt.plot(b[i][0],b[i][1], marker='o', color='blue')\n",
    "    \n",
    "plt.plot(new[0],new[1], marker='x', color='black')\n",
    "\n",
    "for i in range(a[1]):\n",
    "    result.append([distance(new,r[i]),r[i][2]])\n",
    "for i in range(a[2]):\n",
    "    result.append([distance(new,b[i]),b[i][2]])\n",
    "result.sort()\n",
    "    \n",
    "for i in range(k):\n",
    "    if result[i][1] == 1:\n",
    "            re +=1\n",
    "        \n",
    "if(re > (k/2)):\n",
    "    print(\"당신은 여자입니다\")\n",
    "    r.append([new[0],new[1],1,new[2],new[3]])\n",
    "    a[1]+=1\n",
    "    \n",
    "else:\n",
    "    print(\"당신은 남자입니다\")\n",
    "    b.append([new[0],new[1],0,new[2],new[3]])\n",
    "    a[2]+=1"
   ]
  },
  {
   "cell_type": "code",
   "execution_count": null,
   "metadata": {},
   "outputs": [],
   "source": []
  }
 ],
 "metadata": {
  "kernelspec": {
   "display_name": "Python 3",
   "language": "python",
   "name": "python3"
  },
  "language_info": {
   "codemirror_mode": {
    "name": "ipython",
    "version": 3
   },
   "file_extension": ".py",
   "mimetype": "text/x-python",
   "name": "python",
   "nbconvert_exporter": "python",
   "pygments_lexer": "ipython3",
   "version": "3.7.3"
  }
 },
 "nbformat": 4,
 "nbformat_minor": 2
}
