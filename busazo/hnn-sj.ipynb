{
 "cells": [
  {
   "cell_type": "code",
   "execution_count": 54,
   "metadata": {},
   "outputs": [],
   "source": [
    "import numpy as np\n",
    "import random"
   ]
  },
  {
   "cell_type": "code",
   "execution_count": 55,
   "metadata": {},
   "outputs": [],
   "source": [
    "import matplotlib.pyplot as plt\n",
    "%matplotlib inline"
   ]
  },
  {
   "cell_type": "code",
   "execution_count": 75,
   "metadata": {},
   "outputs": [],
   "source": [
    "def bp(x,y):\n",
    "    if x >= 160 or y >=100:\n",
    "        print(\"2단계 고혈압\")\n",
    "        print(\"고혈압 마지막 단계로 매우 위험한 상태입니다.\")\n",
    "    elif x >= 140 or y >=90: \n",
    "        print(\"1단계 고혈압\")\n",
    "        print(\"즉시 진단을 받는 것을 권장합니다.\")\n",
    "    elif x >= 120 or y >=80:\n",
    "        print(\"1단계 고혈압 진입중\")\n",
    "        print(\"과격한 운동을 주의하세요.\")\n",
    "    elif x <= 119 and y <= 79:\n",
    "        print(\"정상 혈압입니다\")"
   ]
  },
  {
   "cell_type": "code",
   "execution_count": 72,
   "metadata": {},
   "outputs": [],
   "source": [
    "r =[] #여자\n",
    "b = [] #남자\n",
    "for i in range(50):\n",
    "    r.append([random.randint(40,70),random.randint(140,180),1,random.randint(90,200),random.randint(50,120)])\n",
    "    b.append([random.randint(60,90),random.randint(160,200),0,random.randint(90,200),random.randint(50,120)])\n",
    "    # 몸무게 키 혈압"
   ]
  },
  {
   "cell_type": "code",
   "execution_count": 73,
   "metadata": {},
   "outputs": [],
   "source": [
    "def distance(x,y):\n",
    "    #두 점 사이의 거리를 구하는 함수\n",
    "    return str(np.sqrt(pow((x[0]-y[0]),2)+pow((x[1]-y[1]),2)))"
   ]
  },
  {
   "cell_type": "code",
   "execution_count": 76,
   "metadata": {
    "scrolled": true
   },
   "outputs": [
    {
     "name": "stdout",
     "output_type": "stream",
     "text": [
      "키를 입력해주세요:170\n",
      "몸무게를 입력해주세요:99\n",
      "k의 값을 입력해주세요:11\n",
      "수축기 혈압을 입력해주세요:150\n",
      "이완기 혈압을 입력해주세요:90\n",
      "50\n",
      "당신은 남자입니다\n",
      "1단계 고혈압\n",
      "즉시 진단을 받는 것을 권장합니다.\n"
     ]
    },
    {
     "data": {
      "image/png": "[encoded data removed]",
      "text/plain": [
       "<Figure size 432x288 with 1 Axes>"
      ]
     },
     "metadata": {
      "needs_background": "light"
     },
     "output_type": "display_data"
    }
   ],
   "source": [
    "result = []\n",
    "re =0\n",
    "k=0\n",
    "new = [0,0,0,0,0,0]\n",
    "a=[50,50,50]\n",
    "\n",
    "new[1] = int(input(\"키를 입력해주세요:\"))\n",
    "new[0] = int(input(\"몸무게를 입력해주세요:\"))\n",
    "k = int(input(\"k의 값을 입력해주세요:\"))\n",
    "new[2] = int(input(\"수축기 혈압을 입력해주세요:\"))\n",
    "new[3] = int(input(\"이완기 혈압을 입력해주세요:\"))\n",
    "\n",
    "print(len(r))\n",
    "\n",
    "for i in range(a[0]):\n",
    "    plt.plot(r[i][0],r[i][1], marker='o', color='red')\n",
    "    plt.plot(b[i][0],b[i][1], marker='o', color='blue')\n",
    "    plt.plot(r[i][3],r[i][4], marker='o', color='fuchsia')\n",
    "    plt.plot(b[i][3],b[i][4], marker='o', color='green')\n",
    "    \n",
    "plt.plot(new[0],new[1], marker='x', color='black')\n",
    "plt.plot(new[2],new[3], marker='x', color='coral')\n",
    "\n",
    "for i in range(a[1]):\n",
    "    result.append([distance(new,r[i]),r[i][2]])\n",
    "for i in range(a[2]):\n",
    "    result.append([distance(new,b[i]),b[i][2]])\n",
    "result.sort()\n",
    "    \n",
    "for i in range(k):\n",
    "    if result[i][1] == 1:\n",
    "            re +=1\n",
    "        \n",
    "if(re > (k/2)):\n",
    "    print(\"당신은 여자입니다\")\n",
    "    bp(new[2],new[3])\n",
    "    r.append([new[0],new[1],1,new[2],new[3]])\n",
    "    a[1]+=1\n",
    "    \n",
    "else:\n",
    "    print(\"당신은 남자입니다\")\n",
    "    bp(new[2],new[3])\n",
    "    b.append([new[0],new[1],0,new[2],new[3]])\n",
    "    a[2]+=1"
   ]
  },
  {
   "cell_type": "code",
   "execution_count": null,
   "metadata": {},
   "outputs": [],
   "source": []
  }
 ],
 "metadata": {
  "kernelspec": {
   "display_name": "Python 3",
   "language": "python",
   "name": "python3"
  },
  "language_info": {
   "codemirror_mode": {
    "name": "ipython",
    "version": 3
   },
   "file_extension": ".py",
   "mimetype": "text/x-python",
   "name": "python",
   "nbconvert_exporter": "python",
   "pygments_lexer": "ipython3",
   "version": "3.7.3"
  }
 },
 "nbformat": 4,
 "nbformat_minor": 2
}
