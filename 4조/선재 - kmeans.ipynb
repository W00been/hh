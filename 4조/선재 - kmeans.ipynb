{
 "cells": [
  {
   "cell_type": "code",
   "execution_count": 198,
   "metadata": {},
   "outputs": [],
   "source": [
    "import numpy as np\n",
    "import random\n",
    "import matplotlib.pyplot as plt\n",
    "%matplotlib inline\n",
    "data1 =[]\n",
    "data2 = []\n",
    "data3 = []\n",
    "for i in range(50):\n",
    "    data1.append([random.randint(40,70),random.randint(140,180),3])\n",
    "    data1.append([random.randint(60,90),random.randint(160,200),3])"
   ]
  },
  {
   "cell_type": "code",
   "execution_count": 199,
   "metadata": {},
   "outputs": [
    {
     "name": "stdout",
     "output_type": "stream",
     "text": [
      "[[79, 149], [67, 159]]\n"
     ]
    },
    {
     "data": {
      "image/png": "[encoded data removed]",
      "text/plain": [
       "<Figure size 432x288 with 1 Axes>"
      ]
     },
     "metadata": {
      "needs_background": "light"
     },
     "output_type": "display_data"
    }
   ],
   "source": [
    "random_points = [[random.randint(40,90),random.randint(140,180)],[random.randint(60,90),random.randint(140,200)]]\n",
    "print(random_points)\n",
    "for i in data1:  #그래프 그리기\n",
    "    plt.plot(i[0],i[1], marker='o', color='black')\n",
    "    plt.plot(random_points[0][0],random_points[0][1],'o', color='red')\n",
    "    plt.plot(random_points[1][0],random_points[1][1],'o', color='blue')    "
   ]
  },
  {
   "cell_type": "code",
   "execution_count": 200,
   "metadata": {},
   "outputs": [],
   "source": [
    "#data2 여자\n",
    "#data3 남자\n",
    "def distance(x,y):   #거리를 구하는 공식\n",
    "    return np.sqrt(pow((x[0]-y[0]), 2) + pow((x[1] - y[1]), 2))\n",
    "    \n",
    "for i in data1:\n",
    "    if (distance(random_points[0],i) < distance(random_points[1],i)):\n",
    "        data2.append(i)#여자\n",
    "    else:\n",
    "        data3.append(i)#남자"
   ]
  },
  {
   "cell_type": "code",
   "execution_count": 201,
   "metadata": {},
   "outputs": [
    {
     "data": {
      "text/plain": [
       "[<matplotlib.lines.Line2D at 0x2053557a940>]"
      ]
     },
     "execution_count": 201,
     "metadata": {},
     "output_type": "execute_result"
    },
    {
     "data": {
      "image/png": "[encoded data removed]",
      "text/plain": [
       "<Figure size 432x288 with 1 Axes>"
      ]
     },
     "metadata": {
      "needs_background": "light"
     },
     "output_type": "display_data"
    }
   ],
   "source": [
    "for i in data2:\n",
    "    plt.plot(i[0],i[1],'o',color='r')\n",
    "for i in data3:\n",
    "    plt.plot(i[0],i[1],'o',color ='b')\n",
    "plt.plot(random_points[0][0],random_points[0][1],'x', color='r')#여자\n",
    "plt.plot(random_points[1][0],random_points[1][1],'x', color='b')#남자      "
   ]
  },
  {
   "cell_type": "code",
   "execution_count": 210,
   "metadata": {},
   "outputs": [],
   "source": [
    "sum1=0\n",
    "sum2=0\n",
    "\n",
    "for i in data2:\n",
    "    sum1 +=i[0]\n",
    "    sum2 +=i[1]\n",
    "    \n",
    "new_points = []\n",
    "new_points.append([sum1/len(data2),sum2/len(data2)])\n",
    "\n",
    "sum1=0\n",
    "sum2=0\n",
    "\n",
    "for i in data3:\n",
    "    sum1 +=i[0]\n",
    "    sum2 +=i[1]\n",
    "    \n",
    "new_points.append([sum1/len(data3),sum2/len(data3)])"
   ]
  },
  {
   "cell_type": "code",
   "execution_count": 212,
   "metadata": {
    "scrolled": true
   },
   "outputs": [
    {
     "name": "stdout",
     "output_type": "stream",
     "text": [
      "1\n"
     ]
    },
    {
     "data": {
      "image/png": "[encoded data removed]",
      "text/plain": [
       "<Figure size 432x288 with 1 Axes>"
      ]
     },
     "metadata": {
      "needs_background": "light"
     },
     "output_type": "display_data"
    }
   ],
   "source": [
    "new_points_b = []\n",
    "a =0\n",
    "while True:\n",
    "    if new_points==new_points_b:\n",
    "        break\n",
    "    for i in data2:\n",
    "        plt.plot(i[0],i[1],'o',color = 'r')\n",
    "    for i in data3:\n",
    "        plt.plot(i[0],i[1],'o',color = 'b')\n",
    "    plt.plot(new_points[0][0],new_points[0][1],'x',color='r')\n",
    "    plt.plot(new_points[1][0],new_points[1][1],'x',color='b')\n",
    "    new_points_b = new_points\n",
    "    a+=1\n",
    "print(a)"
   ]
  },
  {
   "cell_type": "code",
   "execution_count": null,
   "metadata": {},
   "outputs": [],
   "source": []
  }
 ],
 "metadata": {
  "kernelspec": {
   "display_name": "Python 3",
   "language": "python",
   "name": "python3"
  },
  "language_info": {
   "codemirror_mode": {
    "name": "ipython",
    "version": 3
   },
   "file_extension": ".py",
   "mimetype": "text/x-python",
   "name": "python",
   "nbconvert_exporter": "python",
   "pygments_lexer": "ipython3",
   "version": "3.7.3"
  }
 },
 "nbformat": 4,
 "nbformat_minor": 2
}
