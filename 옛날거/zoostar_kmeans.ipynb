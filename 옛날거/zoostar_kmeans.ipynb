{
 "cells": [
  {
   "cell_type": "code",
   "execution_count": 13,
   "metadata": {},
   "outputs": [],
   "source": [
    "import random\n",
    "import numpy as np\n",
    "\n",
    "import matplotlib.pyplot as plt\n",
    "\n",
    "\n",
    "data = []\n",
    "for i in range(50):\n",
    "    data.append([random.randint(40, 70),random.randint(140, 180)])\n",
    "    data.append([random.randint(60, 90),random.randint(160, 200)])"
   ]
  },
  {
   "cell_type": "code",
   "execution_count": 14,
   "metadata": {
    "scrolled": true
   },
   "outputs": [
    {
     "name": "stdout",
     "output_type": "stream",
     "text": [
      "[[58, 141], [79, 165], [42, 167], [84, 172], [41, 165], [65, 198], [69, 169], [88, 163], [57, 151], [74, 172], [69, 170], [79, 191], [60, 177], [61, 176], [69, 175], [88, 197], [48, 140], [63, 177], [48, 159], [63, 178], [57, 148], [76, 196], [66, 176], [60, 200], [66, 155], [78, 165], [69, 162], [63, 185], [42, 173], [77, 164], [55, 140], [78, 197], [70, 155], [84, 186], [64, 162], [85, 181], [70, 152], [61, 188], [46, 171], [62, 161], [45, 145], [71, 183], [41, 144], [88, 192], [50, 156], [63, 193], [50, 155], [82, 174], [47, 157], [88, 186], [46, 171], [88, 177], [52, 156], [85, 195], [64, 143], [81, 186], [61, 140], [66, 200], [63, 170], [65, 165], [64, 146], [78, 193], [49, 156], [74, 171], [48, 168], [89, 163], [68, 151], [70, 171], [66, 176], [84, 178], [60, 173], [85, 184], [50, 154], [69, 188], [54, 161], [86, 168], [42, 141], [77, 170], [44, 177], [74, 168], [67, 142], [90, 174], [61, 159], [68, 185], [54, 149], [69, 180], [62, 169], [87, 170], [46, 148], [72, 167], [45, 154], [88, 197], [55, 144], [61, 197], [63, 153], [67, 185], [62, 166], [90, 198], [55, 167], [90, 175]]\n"
     ]
    }
   ],
   "source": [
    "print(data)"
   ]
  },
  {
   "cell_type": "code",
   "execution_count": 4,
   "metadata": {},
   "outputs": [
    {
     "name": "stdout",
     "output_type": "stream",
     "text": [
      "[[62, 173], [75, 165]]\n"
     ]
    }
   ],
   "source": [
    "random_points = [[random.randint(40, 90),random.randint(140, 200)],[random.randint(40, 90),random.randint(140, 200)]]\n",
    "print(random_points)"
   ]
  },
  {
   "cell_type": "code",
   "execution_count": 23,
   "metadata": {
    "scrolled": true
   },
   "outputs": [
    {
     "data": {
      "text/plain": [
       "[<matplotlib.lines.Line2D at 0x2a1cd3af240>]"
      ]
     },
     "execution_count": 23,
     "metadata": {},
     "output_type": "execute_result"
    },
    {
     "data": {
      "image/png": "[encoded data removed]",
      "text/plain": [
       "<Figure size 432x288 with 1 Axes>"
      ]
     },
     "metadata": {
      "needs_background": "light"
     },
     "output_type": "display_data"
    }
   ],
   "source": [
    "for i in data:\n",
    "    plt.plot(i[0],i[1],'o',color='k')\n",
    "plt.plot(random_points[0][0],random_points[0][1],'x',color='r')\n",
    "plt.plot(random_points[1][0],random_points[1][1],'x',color='b')"
   ]
  },
  {
   "cell_type": "code",
   "execution_count": 24,
   "metadata": {},
   "outputs": [],
   "source": [
    "tmp1 = []\n",
    "tmp2 = []"
   ]
  },
  {
   "cell_type": "code",
   "execution_count": 27,
   "metadata": {},
   "outputs": [],
   "source": [
    "def dist(x,y):\n",
    "    return np.sqrt((x[0]-y[0])**2 +(x[1]-y[1])**2)"
   ]
  },
  {
   "cell_type": "code",
   "execution_count": 29,
   "metadata": {},
   "outputs": [],
   "source": [
    "for i in data:\n",
    "    if (dist(random_points[0],i) > dist(random_points[1],i)):\n",
    "        tmp2.append(i)\n",
    "    else:\n",
    "        tmp1.append(i)\n",
    "    "
   ]
  },
  {
   "cell_type": "code",
   "execution_count": 31,
   "metadata": {},
   "outputs": [
    {
     "data": {
      "text/plain": [
       "[<matplotlib.lines.Line2D at 0x2a1ccf5d080>]"
      ]
     },
     "execution_count": 31,
     "metadata": {},
     "output_type": "execute_result"
    },
    {
     "data": {
      "image/png": "[encoded data removed]",
      "text/plain": [
       "<Figure size 432x288 with 1 Axes>"
      ]
     },
     "metadata": {
      "needs_background": "light"
     },
     "output_type": "display_data"
    }
   ],
   "source": [
    "for i in tmp1:\n",
    "    plt.plot(i[0],i[1],'o',color='y')\n",
    "for i in tmp2:\n",
    "    plt.plot(i[0],i[1],'o',color='g')\n",
    "plt.plot(random_points[0][0],random_points[0][1],'x',color='r')\n",
    "plt.plot(random_points[1][0],random_points[1][1],'x',color='b')"
   ]
  },
  {
   "cell_type": "code",
   "execution_count": 38,
   "metadata": {},
   "outputs": [],
   "source": [
    "# 점 이동\n",
    "sum1=0\n",
    "sum2=0\n",
    "for i in tmp1:\n",
    "    sum1 +=i[0]\n",
    "    sum2 +=i[1]\n",
    "    \n",
    "new_points = []\n",
    "new_points.append([sum1/len(tmp1),sum2/len(tmp1)])\n",
    "sum1=0\n",
    "sum2=0\n",
    "for i in tmp2:\n",
    "    sum1 +=i[0]\n",
    "    sum2 +=i[1]\n",
    "new_points.append([sum1/len(tmp2),sum2/len(tmp2)])"
   ]
  },
  {
   "cell_type": "code",
   "execution_count": 39,
   "metadata": {},
   "outputs": [
    {
     "name": "stdout",
     "output_type": "stream",
     "text": [
      "[[58.07142857142857, 170.96428571428572], [76.38636363636364, 167.5]]\n"
     ]
    }
   ],
   "source": [
    "print(new_points)"
   ]
  },
  {
   "cell_type": "code",
   "execution_count": 40,
   "metadata": {},
   "outputs": [
    {
     "data": {
      "text/plain": [
       "[<matplotlib.lines.Line2D at 0x2a1cd7e9cf8>]"
      ]
     },
     "execution_count": 40,
     "metadata": {},
     "output_type": "execute_result"
    },
    {
     "data": {
      "image/png": "[encoded data removed]",
      "text/plain": [
       "<Figure size 432x288 with 1 Axes>"
      ]
     },
     "metadata": {
      "needs_background": "light"
     },
     "output_type": "display_data"
    }
   ],
   "source": [
    "for i in tmp1:\n",
    "    plt.plot(i[0],i[1],'o',color='y')\n",
    "for i in tmp2:\n",
    "    plt.plot(i[0],i[1],'o',color='g')\n",
    "plt.plot(new_points[0][0],new_points[0][1],'x',color='r')\n",
    "plt.plot(new_points[1][0],new_points[1][1],'x',color='b')"
   ]
  },
  {
   "cell_type": "code",
   "execution_count": null,
   "metadata": {},
   "outputs": [],
   "source": []
  }
 ],
 "metadata": {
  "kernelspec": {
   "display_name": "Python 3",
   "language": "python",
   "name": "python3"
  },
  "language_info": {
   "codemirror_mode": {
    "name": "ipython",
    "version": 3
   },
   "file_extension": ".py",
   "mimetype": "text/x-python",
   "name": "python",
   "nbconvert_exporter": "python",
   "pygments_lexer": "ipython3",
   "version": "3.7.3"
  }
 },
 "nbformat": 4,
 "nbformat_minor": 2
}
