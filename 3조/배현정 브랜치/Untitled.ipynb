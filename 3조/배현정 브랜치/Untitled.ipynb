{
 "cells": [
  {
   "cell_type": "code",
   "execution_count": 6,
   "metadata": {},
   "outputs": [],
   "source": [
    "import random\n",
    "import numpy as np\n",
    "data = []\n",
    "\n",
    "for i in range(50):\n",
    "    data.append([random.randint(40,70),random.randint(140,180)])\n",
    "    data.append([random.randint(60,90),random.randint(160,200)])"
   ]
  },
  {
   "cell_type": "code",
   "execution_count": 7,
   "metadata": {},
   "outputs": [
    {
     "name": "stdout",
     "output_type": "stream",
     "text": [
      "[[54, 146], [70, 164], [44, 175], [84, 175], [68, 165], [72, 200], [44, 162], [77, 196], [47, 159], [80, 170], [61, 154], [82, 185], [52, 177], [60, 194], [45, 167], [88, 165], [44, 161], [62, 193], [44, 172], [75, 200], [43, 158], [89, 190], [51, 164], [78, 173], [52, 170], [63, 164], [51, 165], [90, 163], [62, 170], [62, 192], [70, 166], [64, 167], [54, 174], [82, 162], [52, 147], [71, 162], [63, 159], [66, 184], [70, 161], [84, 174], [48, 145], [80, 174], [58, 166], [89, 174], [53, 165], [63, 163], [44, 143], [78, 191], [57, 178], [72, 167], [65, 180], [74, 173], [69, 149], [88, 192], [53, 170], [70, 168], [40, 151], [66, 190], [43, 171], [74, 179], [57, 167], [76, 164], [54, 172], [86, 160], [69, 180], [83, 161], [69, 175], [89, 198], [47, 140], [70, 191], [45, 150], [89, 179], [45, 155], [72, 164], [43, 165], [66, 174], [43, 178], [88, 188], [54, 167], [89, 183], [57, 160], [81, 171], [59, 157], [70, 192], [51, 146], [90, 196], [43, 163], [77, 194], [58, 141], [63, 195], [54, 142], [65, 183], [52, 162], [81, 161], [66, 173], [69, 194], [67, 164], [66, 169], [61, 143], [86, 161]]\n"
     ]
    }
   ],
   "source": [
    "print(data)"
   ]
  },
  {
   "cell_type": "code",
   "execution_count": 8,
   "metadata": {},
   "outputs": [
    {
     "name": "stdout",
     "output_type": "stream",
     "text": [
      "[[71, 173], [57, 152]]\n"
     ]
    }
   ],
   "source": [
    "random_points = [[random.randint(40,90),random.randint(140,200)],[random.randint(40,90),random.randint(140,200)]]\n",
    "print(random_points)"
   ]
  },
  {
   "cell_type": "code",
   "execution_count": null,
   "metadata": {},
   "outputs": [],
   "source": []
  }
 ],
 "metadata": {
  "kernelspec": {
   "display_name": "Python 3",
   "language": "python",
   "name": "python3"
  },
  "language_info": {
   "codemirror_mode": {
    "name": "ipython",
    "version": 3
   },
   "file_extension": ".py",
   "mimetype": "text/x-python",
   "name": "python",
   "nbconvert_exporter": "python",
   "pygments_lexer": "ipython3",
   "version": "3.7.3"
  }
 },
 "nbformat": 4,
 "nbformat_minor": 2
}
