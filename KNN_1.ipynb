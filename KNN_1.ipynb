{
 "cells": [
  {
   "cell_type": "code",
   "execution_count": 2,
   "metadata": {},
   "outputs": [],
   "source": [
    "import numpy as np\n",
    "#4.1 munpy ndarray"
   ]
  },
  {
   "cell_type": "code",
   "execution_count": 11,
   "metadata": {},
   "outputs": [],
   "source": [
    "l=[[1,2,3],[4,5,6]]\n",
    "l2=[[1,2,3],[4,5,6]]\n",
    "n=np.array(l)\n",
    "n2=np.array(l)"
   ]
  },
  {
   "cell_type": "code",
   "execution_count": 12,
   "metadata": {},
   "outputs": [
    {
     "name": "stdout",
     "output_type": "stream",
     "text": [
      "[[1, 2, 3], [4, 5, 6]]\n",
      "[[1 2 3]\n",
      " [4 5 6]]\n"
     ]
    }
   ],
   "source": [
    "print(l)\n",
    "print(n)"
   ]
  },
  {
   "cell_type": "code",
   "execution_count": 13,
   "metadata": {},
   "outputs": [
    {
     "name": "stdout",
     "output_type": "stream",
     "text": [
      "[[1, 2, 3], [4, 5, 6]]\n",
      "[[1 2 3]\n",
      " [4 5 6]]\n"
     ]
    }
   ],
   "source": [
    "print(l2)\n",
    "print(n2)"
   ]
  },
  {
   "cell_type": "code",
   "execution_count": 14,
   "metadata": {},
   "outputs": [
    {
     "name": "stdout",
     "output_type": "stream",
     "text": [
      "[[ 2  4  6]\n",
      " [ 8 10 12]]\n"
     ]
    }
   ],
   "source": [
    "print(n+n2)"
   ]
  },
  {
   "cell_type": "code",
   "execution_count": 16,
   "metadata": {},
   "outputs": [
    {
     "name": "stdout",
     "output_type": "stream",
     "text": [
      "[[ 2  4  6]\n",
      " [ 8 10 12]]\n"
     ]
    }
   ],
   "source": [
    "print(n*2)"
   ]
  },
  {
   "cell_type": "code",
   "execution_count": null,
   "metadata": {},
   "outputs": [],
   "source": []
  },
  {
   "cell_type": "code",
   "execution_count": 17,
   "metadata": {},
   "outputs": [],
   "source": [
    "import numpy as np"
   ]
  },
  {
   "cell_type": "code",
   "execution_count": 18,
   "metadata": {},
   "outputs": [],
   "source": [
    "r=[4,2,1]\n",
    "b=[5,1,0]"
   ]
  },
  {
   "cell_type": "code",
   "execution_count": 19,
   "metadata": {},
   "outputs": [],
   "source": [
    "r1=np.array(r)\n",
    "b1=np.array(b)"
   ]
  },
  {
   "cell_type": "code",
   "execution_count": 20,
   "metadata": {},
   "outputs": [
    {
     "name": "stdout",
     "output_type": "stream",
     "text": [
      "[4 2 1]\n",
      "[5 1 0]\n"
     ]
    }
   ],
   "source": [
    "print(r1)\n",
    "print(b1)"
   ]
  },
  {
   "cell_type": "code",
   "execution_count": 42,
   "metadata": {},
   "outputs": [],
   "source": [
    "samples=np.random.normal(size=(10,10))"
   ]
  },
  {
   "cell_type": "code",
   "execution_count": 45,
   "metadata": {},
   "outputs": [
    {
     "name": "stdout",
     "output_type": "stream",
     "text": [
      "[[ 3.87894619e-01 -7.64913514e-01 -1.78210014e+00  1.97019662e+00\n",
      "   1.34832670e+00 -2.66382965e-02  6.39528514e-01  1.10711909e-01\n",
      "  -3.03903908e-01 -1.77001212e+00]\n",
      " [ 2.78591485e-01 -1.13518636e+00 -2.12541197e-01  4.83629644e-01\n",
      "   1.94127871e+00  5.76100044e-01 -1.75683945e+00 -4.48602304e-01\n",
      "   1.73419529e+00  1.34213029e-01]\n",
      " [-3.99283533e-01 -3.06230859e-03 -4.44053569e-01  6.74514456e-01\n",
      "   2.26131121e-01 -2.18539457e-01 -1.06868726e+00 -2.71115038e-01\n",
      "  -2.09851003e-01 -6.85772831e-01]\n",
      " [-1.69868671e-01  1.18003626e+00  2.68709509e-01  2.67378302e-01\n",
      "  -5.33472932e-01 -3.76173718e-01  3.72056987e-01 -1.64222188e-01\n",
      "  -2.51795970e+00  1.01577498e+00]\n",
      " [ 2.07882524e-01 -1.91798899e-01 -9.76878919e-01  1.11978925e+00\n",
      "  -1.00643242e+00 -1.19096188e+00  2.48647004e+00  2.11101255e+00\n",
      "   3.51341258e-02 -4.94419484e-01]\n",
      " [ 1.61471800e+00 -8.21873148e-01 -1.33991381e+00  7.54192254e-01\n",
      "   4.70009407e-01 -1.80582789e+00 -6.30397875e-01 -2.39996712e-01\n",
      "  -6.21911344e-01 -4.13240347e-01]\n",
      " [-5.64167806e-01  8.20116491e-01 -1.39700075e-01 -1.14919855e-01\n",
      "   4.07221439e-01 -1.06701812e+00 -1.27944746e+00  3.85704322e-01\n",
      "   1.87422645e-03  7.56599704e-01]\n",
      " [-1.86407567e-01 -1.98500371e-01  1.02990111e+00 -1.64162857e-01\n",
      "  -7.33061636e-01  9.54915244e-01  9.82238211e-01  6.90164133e-01\n",
      "  -6.27530829e-02  1.40064891e+00]\n",
      " [ 1.23783379e+00 -2.18154656e+00  7.23027330e-01 -1.11111239e-01\n",
      "   1.62410375e+00 -3.59479892e+00  2.94260195e-01 -1.27718760e+00\n",
      "   2.99932787e-01 -1.61423663e+00]\n",
      " [-9.04061502e-01  3.34373924e-01 -9.32617876e-01  6.54954847e-01\n",
      "   9.94304249e-01  2.22337317e+00 -1.39170303e+00 -1.47535876e+00\n",
      "   5.88761051e-01  8.68942006e-01]]\n"
     ]
    }
   ],
   "source": [
    "print(samples)"
   ]
  },
  {
   "cell_type": "code",
   "execution_count": 31,
   "metadata": {},
   "outputs": [
    {
     "data": {
      "image/png": "[encoded data removed]",
      "text/plain": [
       "<Figure size 432x288 with 1 Axes>"
      ]
     },
     "metadata": {
      "needs_background": "light"
     },
     "output_type": "display_data"
    }
   ],
   "source": [
    "import matplotlib.pyplot as plt\n",
    "plt.plot([1,2,3,4])\n",
    "plt.ylabel('some numbers')\n",
    "plt.show()\n"
   ]
  },
  {
   "cell_type": "code",
   "execution_count": 48,
   "metadata": {},
   "outputs": [
    {
     "data": {
      "text/plain": [
       "[<matplotlib.lines.Line2D at 0x1c67efe6fd0>]"
      ]
     },
     "execution_count": 48,
     "metadata": {},
     "output_type": "execute_result"
    },
    {
     "data": {
      "image/png": "[encoded data removed]",
      "text/plain": [
       "<Figure size 432x288 with 1 Axes>"
      ]
     },
     "metadata": {
      "needs_background": "light"
     },
     "output_type": "display_data"
    }
   ],
   "source": [
    "import matplotlib.pyplot as plt\n",
    "%matplotlib inline\n",
    "plt.plot(11,3, marker='o', linestyle='', color='red')\n",
    "plt.plot(24,45, marker='o', linestyle='', color='red')\n",
    "plt.plot(19,34, marker='o', linestyle='', color='red')\n",
    "plt.plot(15,7, marker='o', linestyle='', color='red')\n",
    "plt.plot(8,16, marker='o', linestyle='', color='red')\n",
    "plt.plot(7,34, marker='o', linestyle='', color='blue')\n",
    "plt.plot(25,24, marker='o', linestyle='', color='blue')\n",
    "plt.plot(18,54, marker='o', linestyle='', color='blue')\n",
    "plt.plot(7,7, marker='o', linestyle='', color='blue')\n",
    "plt.plot(1,11, marker='o', linestyle='', color='blue')\n",
    "plt.plot(3,19, marker='o', linestyle='', color='blue')"
   ]
  },
  {
   "cell_type": "code",
   "execution_count": 106,
   "metadata": {},
   "outputs": [
    {
     "data": {
      "text/plain": [
       "[<matplotlib.lines.Line2D at 0x1c67f81cd30>,\n",
       " <matplotlib.lines.Line2D at 0x1c67f81ce48>,\n",
       " <matplotlib.lines.Line2D at 0x1c67f81cf98>,\n",
       " <matplotlib.lines.Line2D at 0x1c67fc48128>,\n",
       " <matplotlib.lines.Line2D at 0x1c67fc48278>,\n",
       " <matplotlib.lines.Line2D at 0x1c67fc483c8>,\n",
       " <matplotlib.lines.Line2D at 0x1c67fc48518>,\n",
       " <matplotlib.lines.Line2D at 0x1c67fc48668>,\n",
       " <matplotlib.lines.Line2D at 0x1c67fc487b8>,\n",
       " <matplotlib.lines.Line2D at 0x1c67fc48908>]"
      ]
     },
     "execution_count": 106,
     "metadata": {},
     "output_type": "execute_result"
    },
    {
     "data": {
      "image/png": "[encoded data removed]",
      "text/plain": [
       "<Figure size 432x288 with 1 Axes>"
      ]
     },
     "metadata": {
      "needs_background": "light"
     },
     "output_type": "display_data"
    }
   ],
   "source": [
    "samples=np.random.normal(size=(10,10))\n",
    "import matplotlib.pyplot as plt\n",
    "%matplotlib inline\n",
    "plt.plot(samples, marker='o')"
   ]
  },
  {
   "cell_type": "code",
   "execution_count": 52,
   "metadata": {},
   "outputs": [
    {
     "ename": "NameError",
     "evalue": "name 'smaples' is not defined",
     "output_type": "error",
     "traceback": [
      "\u001b[1;31m---------------------------------------------------------------------------\u001b[0m",
      "\u001b[1;31mNameError\u001b[0m                                 Traceback (most recent call last)",
      "\u001b[1;32m<ipython-input-52-21335e9445a8>\u001b[0m in \u001b[0;36m<module>\u001b[1;34m\u001b[0m\n\u001b[0;32m      1\u001b[0m \u001b[1;32mimport\u001b[0m \u001b[0mmatplotlib\u001b[0m\u001b[1;33m.\u001b[0m\u001b[0mpyplot\u001b[0m \u001b[1;32mas\u001b[0m \u001b[0mplt\u001b[0m\u001b[1;33m\u001b[0m\u001b[1;33m\u001b[0m\u001b[0m\n\u001b[0;32m      2\u001b[0m \u001b[0mget_ipython\u001b[0m\u001b[1;33m(\u001b[0m\u001b[1;33m)\u001b[0m\u001b[1;33m.\u001b[0m\u001b[0mrun_line_magic\u001b[0m\u001b[1;33m(\u001b[0m\u001b[1;34m'matplotlib'\u001b[0m\u001b[1;33m,\u001b[0m \u001b[1;34m'inline'\u001b[0m\u001b[1;33m)\u001b[0m\u001b[1;33m\u001b[0m\u001b[1;33m\u001b[0m\u001b[0m\n\u001b[1;32m----> 3\u001b[1;33m \u001b[0mplt\u001b[0m\u001b[1;33m.\u001b[0m\u001b[0mplot\u001b[0m\u001b[1;33m(\u001b[0m\u001b[0msmaples\u001b[0m\u001b[1;33m.\u001b[0m\u001b[0mrandom\u001b[0m\u001b[1;33m,\u001b[0m \u001b[0mmarker\u001b[0m\u001b[1;33m=\u001b[0m\u001b[1;34m'o'\u001b[0m\u001b[1;33m,\u001b[0m \u001b[0mlinestyle\u001b[0m\u001b[1;33m=\u001b[0m\u001b[1;34m''\u001b[0m\u001b[1;33m,\u001b[0m \u001b[0mcolor\u001b[0m\u001b[1;33m=\u001b[0m\u001b[1;34m'red'\u001b[0m\u001b[1;33m)\u001b[0m\u001b[1;33m\u001b[0m\u001b[1;33m\u001b[0m\u001b[0m\n\u001b[0m\u001b[0;32m      4\u001b[0m \u001b[0mplt\u001b[0m\u001b[1;33m.\u001b[0m\u001b[0mplot\u001b[0m\u001b[1;33m(\u001b[0m\u001b[0msmaples\u001b[0m\u001b[1;33m,\u001b[0m \u001b[0mmarker\u001b[0m\u001b[1;33m=\u001b[0m\u001b[1;34m'o'\u001b[0m\u001b[1;33m,\u001b[0m \u001b[0mlinestyle\u001b[0m\u001b[1;33m=\u001b[0m\u001b[1;34m''\u001b[0m\u001b[1;33m,\u001b[0m \u001b[0mcolor\u001b[0m\u001b[1;33m=\u001b[0m\u001b[1;34m'red'\u001b[0m\u001b[1;33m)\u001b[0m\u001b[1;33m\u001b[0m\u001b[1;33m\u001b[0m\u001b[0m\n\u001b[0;32m      5\u001b[0m \u001b[0mplt\u001b[0m\u001b[1;33m.\u001b[0m\u001b[0mplot\u001b[0m\u001b[1;33m(\u001b[0m\u001b[0msmaples\u001b[0m\u001b[1;33m,\u001b[0m \u001b[0mmarker\u001b[0m\u001b[1;33m=\u001b[0m\u001b[1;34m'o'\u001b[0m\u001b[1;33m,\u001b[0m \u001b[0mlinestyle\u001b[0m\u001b[1;33m=\u001b[0m\u001b[1;34m''\u001b[0m\u001b[1;33m,\u001b[0m \u001b[0mcolor\u001b[0m\u001b[1;33m=\u001b[0m\u001b[1;34m'red'\u001b[0m\u001b[1;33m)\u001b[0m\u001b[1;33m\u001b[0m\u001b[1;33m\u001b[0m\u001b[0m\n",
      "\u001b[1;31mNameError\u001b[0m: name 'smaples' is not defined"
     ]
    }
   ],
   "source": [
    "import matplotlib.pyplot as plt\n",
    "%matplotlib inline\n",
    "plt.plot(smaples.random, marker='o', linestyle='', color='red')\n",
    "plt.plot(smaples, marker='o', linestyle='', color='red')\n",
    "plt.plot(smaples, marker='o', linestyle='', color='red')\n",
    "plt.plot(smaples, marker='o', linestyle='', color='red')\n",
    "plt.plot(smaples, marker='o', linestyle='', color='red')\n",
    "plt.plot(smaples, marker='o', linestyle='', color='blue')\n",
    "plt.plot(smaples, marker='o', linestyle='', color='blue')\n",
    "plt.plot(smaples, marker='o', linestyle='', color='blue')\n",
    "plt.plot(smaples, marker='o', linestyle='', color='blue')\n",
    "plt.plot(smaples, marker='o', linestyle='', color='blue')\n",
    "plt.plot(smaples, marker='o', linestyle='', color='blue')"
   ]
  },
  {
   "cell_type": "code",
   "execution_count": 50,
   "metadata": {},
   "outputs": [],
   "source": [
    "import numpy as np\n",
    "import matplotlib.pyplot as plt"
   ]
  },
  {
   "cell_type": "code",
   "execution_count": 147,
   "metadata": {},
   "outputs": [
    {
     "ename": "NameError",
     "evalue": "name '남성' is not defined",
     "output_type": "error",
     "traceback": [
      "\u001b[1;31m---------------------------------------------------------------------------\u001b[0m",
      "\u001b[1;31mNameError\u001b[0m                                 Traceback (most recent call last)",
      "\u001b[1;32m<ipython-input-147-0e015d0fd560>\u001b[0m in \u001b[0;36m<module>\u001b[1;34m\u001b[0m\n\u001b[0;32m     11\u001b[0m \u001b[0mm4\u001b[0m\u001b[1;33m=\u001b[0m\u001b[1;33m[\u001b[0m\u001b[1;36m173\u001b[0m\u001b[1;33m,\u001b[0m\u001b[1;36m60\u001b[0m\u001b[1;33m]\u001b[0m\u001b[1;33m\u001b[0m\u001b[1;33m\u001b[0m\u001b[0m\n\u001b[0;32m     12\u001b[0m \u001b[0mm5\u001b[0m\u001b[1;33m=\u001b[0m\u001b[1;33m[\u001b[0m\u001b[1;36m178\u001b[0m\u001b[1;33m,\u001b[0m\u001b[1;36m79\u001b[0m\u001b[1;33m]\u001b[0m\u001b[1;33m\u001b[0m\u001b[1;33m\u001b[0m\u001b[0m\n\u001b[1;32m---> 13\u001b[1;33m \u001b[0mcategory\u001b[0m \u001b[1;33m=\u001b[0m \u001b[1;33m[\u001b[0m\u001b[0m남성\u001b[0m\u001b[1;33m,\u001b[0m \u001b[0m여성\u001b[0m\u001b[1;33m]\u001b[0m\u001b[1;33m\u001b[0m\u001b[1;33m\u001b[0m\u001b[0m\n\u001b[0m\u001b[0;32m     14\u001b[0m \u001b[0mfemale\u001b[0m\u001b[1;33m=\u001b[0m\u001b[0mint\u001b[0m\u001b[1;33m(\u001b[0m\u001b[0minput\u001b[0m\u001b[1;33m(\u001b[0m\u001b[1;34m'여성 분류(140~170):'\u001b[0m\u001b[1;33m)\u001b[0m\u001b[1;33m)\u001b[0m\u001b[1;33m\u001b[0m\u001b[1;33m\u001b[0m\u001b[0m\n\u001b[0;32m     15\u001b[0m \u001b[0mmale\u001b[0m\u001b[1;33m=\u001b[0m\u001b[0mint\u001b[0m\u001b[1;33m(\u001b[0m\u001b[0minput\u001b[0m\u001b[1;33m(\u001b[0m\u001b[1;34m'남성 분류(170~195):'\u001b[0m\u001b[1;33m)\u001b[0m\u001b[1;33m)\u001b[0m\u001b[1;33m\u001b[0m\u001b[1;33m\u001b[0m\u001b[0m\n",
      "\u001b[1;31mNameError\u001b[0m: name '남성' is not defined"
     ]
    }
   ],
   "source": [
    "import matplotlib.pyplot as plt\n",
    "%matplotlib inline\n",
    "w1=[170,45]\n",
    "w2=[160,55]\n",
    "w3=[164,54]\n",
    "w4=[156.49]\n",
    "w5=[159,46]\n",
    "m1=[176,67]\n",
    "m2=[187,89]\n",
    "m3=[170,59]\n",
    "m4=[173,60]\n",
    "m5=[178,79]\n",
    "category = [남성, 여성]\n",
    "female=int(input('여성 분류(140~170):'))\n",
    "male=int(input('남성 분류(170~195):'))\n",
    "target=[female, male]\n",
    "\n",
    "def data_set():\n",
    "    dataset=np.array([female, male])\n",
    "    size = len(dataset)\n",
    "    class_target = np.tile(target, size,1)\n",
    "    class_category = np.array(category)\n",
    "    \n",
    "    return dataset, class_target, class_category\n",
    "\n",
    "dataset, class_target, class_category = data_set()\n",
    "\n",
    "def classify(dataset, class_target, class_category, k):\n",
    "    diffMat = class_target - dataset   # 두 점의 차\n",
    "    sqDiffMat = diffMat**2             # 차에 대한 제곱\n",
    "    row_sum = sqDiffMat.sum(axis=1)    # 차에 대한 제곱에 대한 합\n",
    "    distance = np.sqrt(row_sum)        # 차에 대한 제곱에 대한 합의 제곱근(최종거리)\n",
    "    \n",
    "    class_result = {}\n",
    "    for i in range(k):\n",
    "        c = class_categoty[sortDist[i]]\n",
    "        class_result[c] = class_result.get(c, 0) + 1\n",
    "\n",
    "    return class_result\n",
    "# 함수 호출\n",
    "k = int(input('k값 입력(1~3):'))\n",
    "class_result = classify(dataset, class_target, class_categoty, k)  # classify()함수호출\n",
    "print(class_result)\n",
    "\n",
    "# 분류결과 출력 함수 정의\n",
    "def classify_result(class_result):\n",
    "    남성= 0\n",
    "    \n",
    "    for c in class_result.keys():\n",
    "        if c == '남성':\n",
    "            protein = class_result[c]\n",
    "        elif c =='여성':\n",
    "            fruit = class_result[c]\n",
    "        else :\n",
    "            vegetable = class_result[c]\n",
    "\n",
    "    if female<male:\n",
    "        result = \"분류대상은 남성 입니다.\"\n",
    "    elif femael>male:\n",
    "        result = \"분류대상은 여성 입니다\"\n",
    "    \n",
    "    return result\n",
    "\n",
    "\n",
    "a = classify_result(class_result)\n",
    "print(a)"
   ]
  },
  {
   "cell_type": "code",
   "execution_count": 74,
   "metadata": {},
   "outputs": [],
   "source": [
    "import random\n",
    "import matplotlib.pyplot as plt\n",
    "%matplotlib inline\n"
   ]
  },
  {
   "cell_type": "code",
   "execution_count": 78,
   "metadata": {},
   "outputs": [],
   "source": [
    "r=[] # 여자 1\n",
    "b=[] # 남자 0\n",
    "for i in range(50):\n",
    "    r.append([random.randint(40,70),random.randint(140,180),1])    \n",
    "    b.append([random.randint(60,90),random.randint(160,200),0])"
   ]
  },
  {
   "cell_type": "code",
   "execution_count": 83,
   "metadata": {},
   "outputs": [
    {
     "data": {
      "text/plain": [
       "[<matplotlib.lines.Line2D at 0x1c67f6b4eb8>]"
      ]
     },
     "execution_count": 83,
     "metadata": {},
     "output_type": "execute_result"
    },
    {
     "data": {
      "image/png": "[encoded data removed]",
      "text/plain": [
       "<Figure size 432x288 with 1 Axes>"
      ]
     },
     "metadata": {
      "needs_background": "light"
     },
     "output_type": "display_data"
    }
   ],
   "source": [
    "for i in range(50):\n",
    "    plt.plot(r[i][0],r[i][1], marker = '.', color = 'red')\n",
    "    plt.plot(b[i][0],b[i][1], marker = '.', color = 'blue')\n",
    "new = [55,170,1] # 여자\n",
    "plt.plot(new[0],new[1],marker= 'x',color ='black')"
   ]
  },
  {
   "cell_type": "code",
   "execution_count": 89,
   "metadata": {},
   "outputs": [],
   "source": [
    "dist = np.sqrt(\n",
    "pow((new[0]-r[0][0]),2)\n",
    "+pow((new[1]-r[0][1]),2)\n",
    ")"
   ]
  },
  {
   "cell_type": "code",
   "execution_count": 90,
   "metadata": {},
   "outputs": [
    {
     "name": "stdout",
     "output_type": "stream",
     "text": [
      "30.4138126514911\n"
     ]
    }
   ],
   "source": [
    "print(dist)"
   ]
  },
  {
   "cell_type": "code",
   "execution_count": 92,
   "metadata": {},
   "outputs": [],
   "source": [
    "def distance(x,y):\n",
    "    return int(np.sqrt(pow((x[0]-y[0]),2)+pow((x[1]-y[1]),2)))"
   ]
  },
  {
   "cell_type": "code",
   "execution_count": null,
   "metadata": {},
   "outputs": [],
   "source": [
    "def distance(x,y):\n",
    "    return int(np.sqrt(pow((x[0]-y[0]),2)+pow((x[1]-y[1]),2)))\n",
    "\n",
    "def knn(x,y,k):\n",
    "    result=[]\n",
    "    cnt=0\n",
    "    for i in range(len(y)):\n",
    "        result.append([distance(x,y[i]),y[i][2]])\n",
    "    result.sort()\n",
    "    for i in range(k-1):\n",
    "        if (result[i][1]==1):\n",
    "            cnt+=1\n",
    "    \n",
    "    if(cnt>(k/2)):\n",
    "        print('여자입니다.')\n",
    "    esle:\n",
    "        print('남자입니다.')"
   ]
  },
  {
   "cell_type": "code",
   "execution_count": 93,
   "metadata": {},
   "outputs": [
    {
     "data": {
      "text/plain": [
       "30"
      ]
     },
     "execution_count": 93,
     "metadata": {},
     "output_type": "execute_result"
    }
   ],
   "source": [
    "distance(new,r[0])"
   ]
  },
  {
   "cell_type": "code",
   "execution_count": 98,
   "metadata": {},
   "outputs": [],
   "source": [
    "result=[]\n",
    "for i in range(50):\n",
    "    result.append([distance(new,r[i]),r[i][2]])\n",
    "    result.append([distance(new,b[i]),b[i][2]])"
   ]
  },
  {
   "cell_type": "code",
   "execution_count": 99,
   "metadata": {},
   "outputs": [
    {
     "name": "stdout",
     "output_type": "stream",
     "text": [
      "[[30, 1], [26, 0], [6, 1], [31, 0], [9, 1], [9, 0], [15, 1], [27, 0], [25, 1], [33, 0], [17, 1], [15, 0], [6, 1], [33, 0], [9, 1], [27, 0], [22, 1], [17, 0], [12, 1], [31, 0], [13, 1], [17, 0], [12, 1], [43, 0], [12, 1], [18, 0], [26, 1], [36, 0], [8, 1], [28, 0], [14, 1], [29, 0], [17, 1], [36, 0], [25, 1], [15, 0], [14, 1], [7, 0], [10, 1], [30, 0], [9, 1], [12, 0], [30, 1], [32, 0], [6, 1], [24, 0], [15, 1], [33, 0], [25, 1], [35, 0], [16, 1], [7, 0], [26, 1], [27, 0], [18, 1], [34, 0], [19, 1], [25, 0], [7, 1], [34, 0], [21, 1], [17, 0], [15, 1], [36, 0], [11, 1], [24, 0], [23, 1], [31, 0], [14, 1], [10, 0], [3, 1], [34, 0], [18, 1], [34, 0], [31, 1], [34, 0], [17, 1], [35, 0], [12, 1], [32, 0], [15, 1], [33, 0], [14, 1], [19, 0], [30, 1], [5, 0], [11, 1], [30, 0], [23, 1], [18, 0], [13, 1], [20, 0], [26, 1], [30, 0], [11, 1], [36, 0], [17, 1], [12, 0], [29, 1], [38, 0]]\n"
     ]
    }
   ],
   "source": [
    "print(result)"
   ]
  },
  {
   "cell_type": "code",
   "execution_count": 101,
   "metadata": {},
   "outputs": [
    {
     "name": "stdout",
     "output_type": "stream",
     "text": [
      "[[3, 1], [5, 0], [6, 1], [6, 1], [6, 1], [7, 0], [7, 0], [7, 1], [8, 1], [9, 0], [9, 1], [9, 1], [9, 1], [10, 0], [10, 1], [11, 1], [11, 1], [11, 1], [12, 0], [12, 0], [12, 1], [12, 1], [12, 1], [12, 1], [13, 1], [13, 1], [14, 1], [14, 1], [14, 1], [14, 1], [15, 0], [15, 0], [15, 1], [15, 1], [15, 1], [15, 1], [16, 1], [17, 0], [17, 0], [17, 0], [17, 1], [17, 1], [17, 1], [17, 1], [18, 0], [18, 0], [18, 1], [18, 1], [19, 0], [19, 1], [20, 0], [21, 1], [22, 1], [23, 1], [23, 1], [24, 0], [24, 0], [25, 0], [25, 1], [25, 1], [25, 1], [26, 0], [26, 1], [26, 1], [26, 1], [27, 0], [27, 0], [27, 0], [28, 0], [29, 0], [29, 1], [30, 0], [30, 0], [30, 0], [30, 1], [30, 1], [30, 1], [31, 0], [31, 0], [31, 0], [31, 1], [32, 0], [32, 0], [33, 0], [33, 0], [33, 0], [33, 0], [34, 0], [34, 0], [34, 0], [34, 0], [34, 0], [35, 0], [35, 0], [36, 0], [36, 0], [36, 0], [36, 0], [38, 0], [43, 0]]\n"
     ]
    }
   ],
   "source": [
    "result.sort()\n",
    "print(result)"
   ]
  },
  {
   "cell_type": "code",
   "execution_count": 124,
   "metadata": {},
   "outputs": [],
   "source": [
    "### 몸무게와 키, 두개의 변수를 사용한 남녀 구분 코드\n",
    "\n",
    "import random\n",
    "import matplotlib.pyplot as plt\n",
    "%matplotlib inline\n",
    "\n",
    "r=[] # 여자 1\n",
    "b=[] # 남자 0\n",
    "for i in range(50):\n",
    "    r.append([random.randint(40,70),random.randint(140,180),1])    \n",
    "    b.append([random.randint(60,90),random.randint(160,200),0])\n",
    "\n",
    "def distance(x,y):\n",
    "    # 두 점 사이의 거리를 구하는 함수\n",
    "    return int(np.sqrt(pow((x[0]-y[0]),2)+pow((x[1]-y[1]),2)))\n",
    "\n",
    "def knn(x,y,k):\n",
    "    result=[]\n",
    "    cnt=0\n",
    "    for i in range(len(y)):\n",
    "        result.append([distance(x,y[i]),y[i][2]])\n",
    "    result.sort()\n",
    "    for i in range(k):\n",
    "        if (result[i][1]==1):\n",
    "            cnt+=1\n",
    "    \n",
    "    if(cnt>(k/2)):\n",
    "        print('여자입니다.')\n",
    "    else:\n",
    "        print('남자입니다.')"
   ]
  },
  {
   "cell_type": "code",
   "execution_count": 139,
   "metadata": {},
   "outputs": [
    {
     "name": "stdout",
     "output_type": "stream",
     "text": [
      "몸무게를 입력해주세요67\n"
     ]
    }
   ],
   "source": [
    "weight=input(\"몸무게를 입력해주세요\")"
   ]
  },
  {
   "cell_type": "code",
   "execution_count": 140,
   "metadata": {
    "scrolled": true
   },
   "outputs": [
    {
     "name": "stdout",
     "output_type": "stream",
     "text": [
      "키를 입력해주세요180\n"
     ]
    }
   ],
   "source": [
    "height=input(\"키를 입력해주세요\")"
   ]
  },
  {
   "cell_type": "code",
   "execution_count": 144,
   "metadata": {},
   "outputs": [
    {
     "name": "stdout",
     "output_type": "stream",
     "text": [
      "k를 입력해주세요40\n"
     ]
    }
   ],
   "source": [
    "num=input(\"k를 입력해주세요\")"
   ]
  },
  {
   "cell_type": "code",
   "execution_count": 145,
   "metadata": {},
   "outputs": [],
   "source": [
    "new= [int(weight), int(height)] "
   ]
  },
  {
   "cell_type": "code",
   "execution_count": 146,
   "metadata": {},
   "outputs": [
    {
     "name": "stdout",
     "output_type": "stream",
     "text": [
      "남자입니다.\n"
     ]
    }
   ],
   "source": [
    "knn(new,r+b,int(num))"
   ]
  },
  {
   "cell_type": "code",
   "execution_count": null,
   "metadata": {},
   "outputs": [],
   "source": [
    "\n",
    "import numpy as np\n",
    "\n",
    "import random\n",
    "r = [] # 여자 1\n",
    "b = [] # 남자 0\n",
    "\n",
    "for i in range(50):\n",
    "    r.append([random.randint(40,70), random.randint(140, 180), random.randint(1, 6), random.randint(4, 10), 1])\n",
    "    b.append([random.randint(60,90), random.randint(160, 200), random.randint(2, 9), random.randint(5, 14), 0])\n",
    "\n",
    "def distance(x,y):\n",
    "    # 두점 사이의 거리를 구하는 함수\n",
    "    return np.sqrt(pow((x[0]-y[0]),2)+pow((x[1]-y[1]),2)+pow((x[2]-y[2]),2)+pow((x[3]-y[3]),2))\n",
    "\n",
    "def knn(a,b,c,p,k):\n",
    "    result1=[]\n",
    "    result2=[]\n",
    "    result3=[]\n",
    "    cnt1=0\n",
    "    cnt2=0\n",
    "    cnt3=0\n",
    "    for i in range(len(p)):\n",
    "        result1.append([distance(a,p[i]),p[i][4]])\n",
    "        result2.append([distance(b,p[i]),p[i][4]])\n",
    "        result3.append([distance(c,p[i]),p[i][4]])\n",
    "    result1.sort()\n",
    "    result2.sort()\n",
    "    result3.sort()\n",
    "    for i in range(k):\n",
    "        if (result1[i][1] == 1):\n",
    "            cnt1 +=1\n",
    "        if (result2[i][1] == 1):\n",
    "            cnt2 +=1\n",
    "        if (result3[i][1] == 1):\n",
    "            cnt3 +=1\n",
    "    if (cnt1 > (k/2)):\n",
    "        print(\"첫 번째 입력한 사람은 여자입니다.\")\n",
    "    else:\n",
    "        print(\"첫 번째 입력한 사람은 남자입니다.\")\n",
    "    if (cnt2 > (k/2)):\n",
    "        print(\"두 번째 입력한 사람은 여자입니다.\")\n",
    "    else:\n",
    "        print(\"두 번째 입력한 사람은 남자입니다.\")\n",
    "    if (cnt3 > (k/2)):\n",
    "        print(\"세 번째 입력한 사람은 여자입니다.\")\n",
    "    else:\n",
    "        print(\"세 번째 입력한 사람은 남자입니다.\")\n",
    "        \n",
    "for i in range(1,6):\n",
    "    weight = input(\"첫 번째 사람의 몸무게를 입력해주세요 : \")\n",
    "    height = input(\"첫 번째 사람의 키를 입력해주세요 : \")\n",
    "    DNA = input(\"염기서열을 입력해주세요 : \")\n",
    "    RNA = input(\"RNA등록번호를 입력해주세요 : \")\n",
    "    num = input(\"K를 입력해주세요 : \")\n",
    "    new1 = int(weight), int(height), int(DNA), int(RNA)\n",
    "\n",
    "    weight = input(\"두 번째 사람의 몸무게를 입력해주세요 : \")\n",
    "    height = input(\"두 번째 사람의 키를 입력해주세요 : \")\n",
    "    DNA = input(\"염기서열을 입력해주세요 : \")\n",
    "    RNA = input(\"RNA등록번호를 입력해주세요 : \")\n",
    "    num = input(\"K를 입력해주세요 : \")\n",
    "    new2 = int(weight), int(height), int(DNA), int(RNA)\n",
    "\n",
    "    weight = input(\"세 번째 사람의 몸무게를 입력해주세요 : \")\n",
    "    height = input(\"세 번째 사람의 키를 입력해주세요 : \")\n",
    "    DNA = input(\"염기서열을 입력해주세요 :\n",
    "    RNA = input(\"RNA등록번호를 입력해주세요 : \")\n",
    "    num = input(\"K를 입력해주세요 : \")\n",
    "    new3 = int(weight), int(height), int(DNA), int(RNA)\n",
    "    \n",
    "    knn(new1,new2,new3,r+b,int(num))"
   ]
  },
  {
   "cell_type": "code",
   "execution_count": null,
   "metadata": {},
   "outputs": [],
   "source": []
  },
  {
   "cell_type": "code",
   "execution_count": null,
   "metadata": {},
   "outputs": [],
   "source": []
  },
  {
   "cell_type": "code",
   "execution_count": null,
   "metadata": {},
   "outputs": [],
   "source": []
  },
  {
   "cell_type": "raw",
   "metadata": {},
   "source": []
  }
 ],
 "metadata": {
  "kernelspec": {
   "display_name": "Python 3",
   "language": "python",
   "name": "python3"
  },
  "language_info": {
   "codemirror_mode": {
    "name": "ipython",
    "version": 3
   },
   "file_extension": ".py",
   "mimetype": "text/x-python",
   "name": "python",
   "nbconvert_exporter": "python",
   "pygments_lexer": "ipython3",
   "version": "3.7.3"
  }
 },
 "nbformat": 4,
 "nbformat_minor": 2
}
