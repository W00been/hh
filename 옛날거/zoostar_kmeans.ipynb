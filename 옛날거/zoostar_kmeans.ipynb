{
 "cells": [
  {
   "cell_type": "code",
   "execution_count": 1,
   "metadata": {},
   "outputs": [],
   "source": [
    "import random\n",
    "import numpy as np\n",
    "data = []\n",
    "for i in range(50):\n",
    "    data.append([random.randint(40, 70),random.randint(140, 180)])\n",
    "    data.append([random.randint(60, 90),random.randint(160, 200)])"
   ]
  },
  {
   "cell_type": "code",
   "execution_count": 2,
   "metadata": {},
   "outputs": [
    {
     "name": "stdout",
     "output_type": "stream",
     "text": [
      "[[69, 165], [67, 187], [62, 157], [85, 182], [57, 176], [89, 171], [55, 160], [81, 173], [55, 166], [72, 200], [55, 171], [71, 164], [65, 170], [73, 181], [62, 154], [85, 161], [49, 152], [82, 176], [65, 151], [66, 185], [62, 141], [62, 172], [45, 148], [61, 200], [56, 146], [63, 174], [62, 157], [60, 169], [69, 145], [89, 200], [66, 177], [87, 166], [65, 159], [88, 188], [61, 151], [88, 161], [44, 179], [78, 184], [52, 172], [64, 161], [59, 145], [83, 177], [49, 180], [81, 179], [61, 163], [60, 168], [51, 140], [85, 160], [58, 156], [70, 185], [44, 170], [66, 199], [51, 164], [85, 179], [68, 156], [70, 187], [41, 142], [82, 192], [58, 157], [69, 197], [53, 157], [67, 192], [50, 142], [73, 197], [44, 158], [68, 178], [60, 152], [67, 191], [67, 180], [60, 178], [61, 177], [78, 167], [66, 167], [73, 197], [68, 179], [87, 173], [49, 160], [68, 160], [44, 166], [75, 199], [60, 168], [62, 160], [40, 164], [88, 190], [57, 148], [79, 192], [60, 175], [82, 168], [41, 171], [81, 170], [54, 149], [66, 162], [47, 160], [88, 182], [67, 155], [68, 194], [40, 152], [82, 178], [53, 149], [79, 170]]\n"
     ]
    }
   ],
   "source": [
    "print(data)"
   ]
  },
  {
   "cell_type": "code",
   "execution_count": 4,
   "metadata": {},
   "outputs": [
    {
     "name": "stdout",
     "output_type": "stream",
     "text": [
      "[[62, 173], [75, 165]]\n"
     ]
    }
   ],
   "source": [
    "random_points = [[random.randint(40, 90),random.randint(140, 200)],[random.randint(40, 90),random.randint(140, 200)]]\n",
    "print(random_points)"
   ]
  },
  {
   "cell_type": "code",
   "execution_count": 5,
   "metadata": {},
   "outputs": [],
   "source": [
    "import matplotlib.pyplot as plt\n",
    "%matplotlib inline\n"
   ]
  },
  {
   "cell_type": "code",
   "execution_count": 6,
   "metadata": {},
   "outputs": [],
   "source": [
    "x = np.arange(-10,10)\n",
    "y = 2*x + 3 "
   ]
  },
  {
   "cell_type": "code",
   "execution_count": 8,
   "metadata": {},
   "outputs": [
    {
     "data": {
      "image/png": "[encoded data removed]",
      "text/plain": [
       "<Figure size 432x288 with 1 Axes>"
      ]
     },
     "metadata": {
      "needs_background": "light"
     },
     "output_type": "display_data"
    }
   ],
   "source": [
    "plt.plot(x, y) \n",
    "plt.plot(x, y, 'o')\n",
    "plt.show()"
   ]
  },
  {
   "cell_type": "code",
   "execution_count": null,
   "metadata": {},
   "outputs": [],
   "source": []
  }
 ],
 "metadata": {
  "kernelspec": {
   "display_name": "Python 3",
   "language": "python",
   "name": "python3"
  },
  "language_info": {
   "codemirror_mode": {
    "name": "ipython",
    "version": 3
   },
   "file_extension": ".py",
   "mimetype": "text/x-python",
   "name": "python",
   "nbconvert_exporter": "python",
   "pygments_lexer": "ipython3",
   "version": "3.7.3"
  }
 },
 "nbformat": 4,
 "nbformat_minor": 2
}
