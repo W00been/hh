{
 "cells": [
  {
   "cell_type": "code",
   "execution_count": 12,
   "metadata": {},
   "outputs": [],
   "source": [
    "import random\n",
    "import numpy as np\n",
    "\n",
    "import matplotlib.pyplot as plt\n",
    "\n",
    "\n",
    "data = []\n",
    "for i in range(50):\n",
    "    data.append([random.randint(40, 70),random.randint(140, 180)])\n",
    "    data.append([random.randint(60, 90),random.randint(160, 200)])"
   ]
  },
  {
   "cell_type": "code",
   "execution_count": 13,
   "metadata": {
    "scrolled": true
   },
   "outputs": [
    {
     "name": "stdout",
     "output_type": "stream",
     "text": [
      "[[52, 146], [84, 166], [59, 153], [78, 200], [60, 147], [73, 162], [66, 153], [71, 185], [44, 166], [69, 182], [66, 169], [67, 181], [48, 173], [76, 184], [47, 161], [69, 167], [65, 159], [67, 171], [52, 176], [70, 178], [55, 167], [86, 197], [68, 168], [79, 184], [42, 177], [82, 187], [41, 180], [60, 187], [44, 155], [65, 179], [50, 163], [78, 187], [55, 145], [63, 165], [60, 175], [89, 178], [52, 156], [77, 191], [42, 145], [85, 189], [59, 147], [70, 198], [56, 150], [83, 181], [52, 173], [69, 182], [54, 159], [61, 173], [66, 145], [77, 200], [57, 163], [61, 183], [54, 149], [60, 164], [45, 164], [65, 181], [56, 175], [73, 181], [41, 152], [81, 161], [57, 170], [66, 190], [52, 170], [62, 178], [54, 143], [86, 188], [44, 148], [83, 165], [53, 159], [61, 185], [53, 145], [83, 161], [52, 173], [69, 197], [55, 177], [78, 183], [44, 148], [64, 199], [55, 171], [87, 164], [66, 169], [82, 179], [54, 172], [66, 190], [56, 167], [74, 190], [58, 165], [68, 184], [53, 143], [65, 178], [70, 145], [60, 160], [45, 169], [86, 191], [57, 150], [79, 173], [48, 142], [63, 199], [43, 142], [73, 173]]\n"
     ]
    }
   ],
   "source": [
    "print(data)"
   ]
  },
  {
   "cell_type": "code",
   "execution_count": 14,
   "metadata": {},
   "outputs": [
    {
     "name": "stdout",
     "output_type": "stream",
     "text": [
      "[[86, 166], [74, 184]]\n"
     ]
    }
   ],
   "source": [
    "random_points = [[random.randint(40, 90),random.randint(140, 200)],[random.randint(40, 90),random.randint(140, 200)]]\n",
    "print(random_points)"
   ]
  },
  {
   "cell_type": "code",
   "execution_count": 15,
   "metadata": {
    "scrolled": true
   },
   "outputs": [
    {
     "data": {
      "text/plain": [
       "[<matplotlib.lines.Line2D at 0x169253efc50>]"
      ]
     },
     "execution_count": 15,
     "metadata": {},
     "output_type": "execute_result"
    },
    {
     "data": {
      "image/png": "[encoded data removed]",
      "text/plain": [
       "<Figure size 432x288 with 1 Axes>"
      ]
     },
     "metadata": {
      "needs_background": "light"
     },
     "output_type": "display_data"
    }
   ],
   "source": [
    "for i in data:\n",
    "    plt.plot(i[0],i[1],'o',color='k')\n",
    "plt.plot(random_points[0][0],random_points[0][1],'x',color='r')\n",
    "plt.plot(random_points[1][0],random_points[1][1],'x',color='b')"
   ]
  },
  {
   "cell_type": "code",
   "execution_count": 16,
   "metadata": {},
   "outputs": [],
   "source": [
    "tmp1 = []\n",
    "tmp2 = []"
   ]
  },
  {
   "cell_type": "code",
   "execution_count": 17,
   "metadata": {},
   "outputs": [],
   "source": [
    "def dist(x,y):\n",
    "    return np.sqrt((x[0]-y[0])**2 +(x[1]-y[1])**2)"
   ]
  },
  {
   "cell_type": "code",
   "execution_count": 18,
   "metadata": {},
   "outputs": [],
   "source": [
    "for i in data:\n",
    "    if (dist(random_points[0],i) > dist(random_points[1],i)):\n",
    "        tmp2.append(i)\n",
    "    else:\n",
    "        tmp1.append(i)\n",
    "    "
   ]
  },
  {
   "cell_type": "code",
   "execution_count": 19,
   "metadata": {},
   "outputs": [
    {
     "data": {
      "text/plain": [
       "[<matplotlib.lines.Line2D at 0x1692540ecf8>]"
      ]
     },
     "execution_count": 19,
     "metadata": {},
     "output_type": "execute_result"
    },
    {
     "data": {
      "image/png": "[encoded data removed]",
      "text/plain": [
       "<Figure size 432x288 with 1 Axes>"
      ]
     },
     "metadata": {
      "needs_background": "light"
     },
     "output_type": "display_data"
    }
   ],
   "source": [
    "for i in tmp1:\n",
    "    plt.plot(i[0],i[1],'o',color='y')\n",
    "for i in tmp2:\n",
    "    plt.plot(i[0],i[1],'o',color='g')\n",
    "plt.plot(random_points[0][0],random_points[0][1],'x',color='r')\n",
    "plt.plot(random_points[1][0],random_points[1][1],'x',color='b')"
   ]
  },
  {
   "cell_type": "code",
   "execution_count": 20,
   "metadata": {},
   "outputs": [],
   "source": [
    "# 점 이동\n",
    "sum1=0\n",
    "sum2=0\n",
    "for i in tmp1:\n",
    "    sum1 +=i[0]\n",
    "    sum2 +=i[1]\n",
    "    \n",
    "new_points = []\n",
    "new_points.append([sum1/len(tmp1),sum2/len(tmp1)])\n",
    "sum1=0\n",
    "sum2=0\n",
    "for i in tmp2:\n",
    "    sum1 +=i[0]\n",
    "    sum2 +=i[1]\n",
    "new_points.append([sum1/len(tmp2),sum2/len(tmp2)])"
   ]
  },
  {
   "cell_type": "code",
   "execution_count": 21,
   "metadata": {},
   "outputs": [
    {
     "name": "stdout",
     "output_type": "stream",
     "text": [
      "[[62.58064516129032, 153.48387096774192], [63.47826086956522, 177.85507246376812]]\n"
     ]
    }
   ],
   "source": [
    "print(new_points)"
   ]
  },
  {
   "cell_type": "code",
   "execution_count": 22,
   "metadata": {},
   "outputs": [
    {
     "data": {
      "text/plain": [
       "[<matplotlib.lines.Line2D at 0x1692569b5f8>]"
      ]
     },
     "execution_count": 22,
     "metadata": {},
     "output_type": "execute_result"
    },
    {
     "data": {
      "image/png": "[encoded data removed]",
      "text/plain": [
       "<Figure size 432x288 with 1 Axes>"
      ]
     },
     "metadata": {
      "needs_background": "light"
     },
     "output_type": "display_data"
    }
   ],
   "source": [
    "for i in tmp1:\n",
    "    plt.plot(i[0],i[1],'o',color='y')\n",
    "for i in tmp2:\n",
    "    plt.plot(i[0],i[1],'o',color='g')\n",
    "plt.plot(new_points[0][0],new_points[0][1],'x',color='r')\n",
    "plt.plot(new_points[1][0],new_points[1][1],'x',color='b')"
   ]
  },
  {
   "cell_type": "code",
   "execution_count": null,
   "metadata": {},
   "outputs": [],
   "source": []
  }
 ],
 "metadata": {
  "kernelspec": {
   "display_name": "Python 3",
   "language": "python",
   "name": "python3"
  },
  "language_info": {
   "codemirror_mode": {
    "name": "ipython",
    "version": 3
   },
   "file_extension": ".py",
   "mimetype": "text/x-python",
   "name": "python",
   "nbconvert_exporter": "python",
   "pygments_lexer": "ipython3",
   "version": "3.7.3"
  }
 },
 "nbformat": 4,
 "nbformat_minor": 2
}
