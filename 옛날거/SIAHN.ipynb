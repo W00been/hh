{
 "cells": [
  {
   "cell_type": "code",
   "execution_count": 1,
   "metadata": {},
   "outputs": [],
   "source": [
    "import numpy as np\n",
    "import random\n",
    "import matplotlib.pyplot as plt\n",
    "%matplotlib inline"
   ]
  },
  {
   "cell_type": "code",
   "execution_count": 2,
   "metadata": {},
   "outputs": [],
   "source": [
    "r = []\n",
    "b = []\n",
    "for i in range(50):\n",
    "    r.append([random.randint(40, 70), random.randint(140, 180), 1])\n",
    "    b.append([random.randint(60, 90), random.randint(160, 200), 0])"
   ]
  },
  {
   "cell_type": "code",
   "execution_count": 3,
   "metadata": {},
   "outputs": [
    {
     "name": "stdout",
     "output_type": "stream",
     "text": [
      "키를 입력해주세요.\n",
      "180\n",
      "몸무게를 입력해주세요.\n",
      "80\n",
      "k의 갯수를 입력해주세요.\n",
      "3\n"
     ]
    },
    {
     "data": {
      "text/plain": [
       "[<matplotlib.lines.Line2D at 0x22f5c291898>]"
      ]
     },
     "execution_count": 3,
     "metadata": {},
     "output_type": "execute_result"
    },
    {
     "data": {
      "image/png": "[encoded data removed]",
      "text/plain": [
       "<Figure size 432x288 with 1 Axes>"
      ]
     },
     "metadata": {
      "needs_background": "light"
     },
     "output_type": "display_data"
    }
   ],
   "source": [
    "for i in range(50):\n",
    "    plt.plot(r[i][0], r[i][1], marker='o', color = 'red')\n",
    "    plt.plot(b[i][0], b[i][1], marker='o', color = 'blue')\n",
    "    \n",
    "print(\"키를 입력해주세요.\")\n",
    "height = int(input())\n",
    "print(\"몸무게를 입력해주세요.\")\n",
    "weight = int(input())\n",
    "new = [weight, height, 0]\n",
    "print(\"k의 갯수를 입력해주세요.\")\n",
    "kcount = int(input())\n",
    "\n",
    "plt.plot(new[0], new[1], marker = 'x', color = 'black')"
   ]
  },
  {
   "cell_type": "code",
   "execution_count": 4,
   "metadata": {},
   "outputs": [],
   "source": [
    "def distance(x, y):\n",
    "    return int(np.sqrt(pow((x[0]-y[0]), 2) + pow((x[1]-y[1]), 2)))"
   ]
  },
  {
   "cell_type": "code",
   "execution_count": 5,
   "metadata": {},
   "outputs": [],
   "source": [
    "result = []\n",
    "for i in range(50):\n",
    "    result.append([distance(new, r[i]), r[i][2]])\n",
    "    result.append([distance(new, b[i]), b[i][2]])"
   ]
  },
  {
   "cell_type": "code",
   "execution_count": 6,
   "metadata": {},
   "outputs": [
    {
     "name": "stdout",
     "output_type": "stream",
     "text": [
      "[[29, 1], [15, 0], [31, 1], [3, 0], [56, 1], [10, 0], [38, 1], [18, 0], [32, 1], [19, 0], [41, 1], [10, 0], [38, 1], [18, 0], [33, 1], [8, 0], [44, 1], [21, 0], [25, 1], [12, 0], [43, 1], [20, 0], [43, 1], [22, 0], [35, 1], [16, 0], [34, 1], [13, 0], [25, 1], [8, 0], [38, 1], [19, 0], [40, 1], [23, 0], [15, 1], [16, 0], [48, 1], [16, 0], [18, 1], [15, 0], [22, 1], [14, 0], [41, 1], [18, 0], [34, 1], [4, 0], [27, 1], [16, 0], [27, 1], [13, 0], [37, 1], [6, 0], [29, 1], [13, 0], [39, 1], [10, 0], [44, 1], [13, 0], [42, 1], [15, 0], [43, 1], [11, 0], [43, 1], [10, 0], [37, 1], [12, 0], [41, 1], [17, 0], [46, 1], [24, 0], [41, 1], [2, 0], [20, 1], [20, 0], [42, 1], [21, 0], [28, 1], [19, 0], [32, 1], [25, 0], [45, 1], [14, 0], [11, 1], [19, 0], [30, 1], [14, 0], [41, 1], [26, 0], [34, 1], [17, 0], [32, 1], [21, 0], [36, 1], [22, 0], [21, 1], [23, 0], [38, 1], [5, 0], [47, 1], [4, 0]]\n"
     ]
    }
   ],
   "source": [
    "print(result)"
   ]
  },
  {
   "cell_type": "code",
   "execution_count": 7,
   "metadata": {},
   "outputs": [
    {
     "name": "stdout",
     "output_type": "stream",
     "text": [
      "[[2, 0], [3, 0], [4, 0], [4, 0], [5, 0], [6, 0], [8, 0], [8, 0], [10, 0], [10, 0], [10, 0], [10, 0], [11, 0], [11, 1], [12, 0], [12, 0], [13, 0], [13, 0], [13, 0], [13, 0], [14, 0], [14, 0], [14, 0], [15, 0], [15, 0], [15, 0], [15, 1], [16, 0], [16, 0], [16, 0], [16, 0], [17, 0], [17, 0], [18, 0], [18, 0], [18, 0], [18, 1], [19, 0], [19, 0], [19, 0], [19, 0], [20, 0], [20, 0], [20, 1], [21, 0], [21, 0], [21, 0], [21, 1], [22, 0], [22, 0], [22, 1], [23, 0], [23, 0], [24, 0], [25, 0], [25, 1], [25, 1], [26, 0], [27, 1], [27, 1], [28, 1], [29, 1], [29, 1], [30, 1], [31, 1], [32, 1], [32, 1], [32, 1], [33, 1], [34, 1], [34, 1], [34, 1], [35, 1], [36, 1], [37, 1], [37, 1], [38, 1], [38, 1], [38, 1], [38, 1], [39, 1], [40, 1], [41, 1], [41, 1], [41, 1], [41, 1], [41, 1], [42, 1], [42, 1], [43, 1], [43, 1], [43, 1], [43, 1], [44, 1], [44, 1], [45, 1], [46, 1], [47, 1], [48, 1], [56, 1]]\n"
     ]
    }
   ],
   "source": [
    "result.sort()\n",
    "print(result)"
   ]
  },
  {
   "cell_type": "code",
   "execution_count": 8,
   "metadata": {},
   "outputs": [
    {
     "name": "stdout",
     "output_type": "stream",
     "text": [
      "당신은 남자입니다.\n"
     ]
    }
   ],
   "source": [
    "sum = 0.0\n",
    "for i in range(kcount):\n",
    "    sum += result[i][1]\n",
    "avg = sum / kcount\n",
    "\n",
    "if(avg > 0.5):\n",
    "    print(\"당신은 여자입니다.\")\n",
    "else:\n",
    "    print(\"당신은 남자입니다.\")"
   ]
  },
  {
   "cell_type": "markdown",
   "metadata": {},
   "source": [
    "# Teacher's Code"
   ]
  },
  {
   "cell_type": "code",
   "execution_count": 9,
   "metadata": {},
   "outputs": [],
   "source": [
    "import random\n",
    "r = []\n",
    "b = []\n",
    "for i in range(50):\n",
    "    r.append([random.randint(40, 70), random.randint(140, 180), 1])\n",
    "    b.append([random.randint(60, 90), random.randint(160, 200), 0])"
   ]
  },
  {
   "cell_type": "code",
   "execution_count": 10,
   "metadata": {},
   "outputs": [],
   "source": [
    "def distance(x,y):\n",
    "    return np.sqrt(pow((x[0]-y[0]), 2) + pow((x[1] - y[1]), 2))"
   ]
  },
  {
   "cell_type": "code",
   "execution_count": 11,
   "metadata": {},
   "outputs": [],
   "source": [
    "def knn(x, y, k):\n",
    "    result = []\n",
    "    cnt = 0\n",
    "    for i in range(len(y)):\n",
    "        result.append([distance(x,y[i]),y[i][2]])\n",
    "    result.sort()\n",
    "    for i in range(k-1):\n",
    "        if(result[i][1] == 1):\n",
    "            cnt += 1\n",
    "    if(cnt > (k/2)):\n",
    "        print(\"당신은 여자입니다.\")\n",
    "    else:\n",
    "        print(\"당신은 남자입니다.\")"
   ]
  },
  {
   "cell_type": "code",
   "execution_count": 12,
   "metadata": {},
   "outputs": [
    {
     "name": "stdout",
     "output_type": "stream",
     "text": [
      "몸무게를 입력해주세요.80\n"
     ]
    }
   ],
   "source": [
    "weight = input(\"몸무게를 입력해주세요.\")"
   ]
  },
  {
   "cell_type": "code",
   "execution_count": 13,
   "metadata": {},
   "outputs": [
    {
     "name": "stdout",
     "output_type": "stream",
     "text": [
      "키를 입력해주세요.180\n"
     ]
    }
   ],
   "source": [
    "height = input(\"키를 입력해주세요.\")"
   ]
  },
  {
   "cell_type": "code",
   "execution_count": 14,
   "metadata": {},
   "outputs": [
    {
     "name": "stdout",
     "output_type": "stream",
     "text": [
      "k를 입력해주세요.3\n"
     ]
    }
   ],
   "source": [
    "num = input(\"k를 입력해주세요.\")"
   ]
  },
  {
   "cell_type": "code",
   "execution_count": 15,
   "metadata": {},
   "outputs": [],
   "source": [
    "new = [int(weight), int(height)]"
   ]
  },
  {
   "cell_type": "code",
   "execution_count": 16,
   "metadata": {},
   "outputs": [
    {
     "name": "stdout",
     "output_type": "stream",
     "text": [
      "당신은 남자입니다.\n"
     ]
    }
   ],
   "source": [
    "knn(new, r+b, int(num))"
   ]
  },
  {
   "cell_type": "code",
   "execution_count": null,
   "metadata": {},
   "outputs": [],
   "source": []
  },
  {
   "cell_type": "code",
   "execution_count": 17,
   "metadata": {},
   "outputs": [],
   "source": [
    "import random\n",
    "r = []\n",
    "b = []\n",
    "for i in range(50):\n",
    "    r.append([random.randint(40, 70), random.randint(140, 180), 1])\n",
    "    b.append([random.randint(60, 90), random.randint(160, 200), 0])"
   ]
  },
  {
   "cell_type": "code",
   "execution_count": 18,
   "metadata": {},
   "outputs": [
    {
     "data": {
      "text/plain": [
       "[<matplotlib.lines.Line2D at 0x22f5c427f28>]"
      ]
     },
     "execution_count": 18,
     "metadata": {},
     "output_type": "execute_result"
    },
    {
     "data": {
      "image/png": "[encoded data removed]",
      "text/plain": [
       "<Figure size 432x288 with 1 Axes>"
      ]
     },
     "metadata": {
      "needs_background": "light"
     },
     "output_type": "display_data"
    }
   ],
   "source": [
    "for i in range(50):\n",
    "    plt.plot(r[i][0], r[i][1], marker='o', color = 'red')\n",
    "    plt.plot(b[i][0], b[i][1], marker='o', color = 'blue')\n",
    "    \n",
    "new = [55, 170, 1]\n",
    "\n",
    "plt.plot(new[0], new[1], marker = 'x', color = 'black')"
   ]
  },
  {
   "cell_type": "code",
   "execution_count": null,
   "metadata": {},
   "outputs": [],
   "source": []
  }
 ],
 "metadata": {
  "kernelspec": {
   "display_name": "Python 3",
   "language": "python",
   "name": "python3"
  },
  "language_info": {
   "codemirror_mode": {
    "name": "ipython",
    "version": 3
   },
   "file_extension": ".py",
   "mimetype": "text/x-python",
   "name": "python",
   "nbconvert_exporter": "python",
   "pygments_lexer": "ipython3",
   "version": "3.7.3"
  }
 },
 "nbformat": 4,
 "nbformat_minor": 2
}
